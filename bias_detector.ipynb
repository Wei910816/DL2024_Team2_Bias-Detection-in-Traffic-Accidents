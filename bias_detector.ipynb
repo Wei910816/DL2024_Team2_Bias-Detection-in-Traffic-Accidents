{
  "cells": [
    {
      "cell_type": "code",
      "source": [
        "!apt install aif360\n",
        "!pip install 'aif360[LFR,OptimPreproc]'"
      ],
      "metadata": {
        "colab": {
          "base_uri": "https://localhost:8080/"
        },
        "id": "S7uhPglxnodO",
        "outputId": "0acfdca8-1893-4d0e-e015-288478f649bc"
      },
      "id": "S7uhPglxnodO",
      "execution_count": 3,
      "outputs": [
        {
          "output_type": "stream",
          "name": "stdout",
          "text": [
            "Reading package lists... Done\n",
            "Building dependency tree... Done\n",
            "Reading state information... Done\n",
            "\u001b[1;31mE: \u001b[0mUnable to locate package aif360\u001b[0m\n",
            "Collecting aif360[LFR,OptimPreproc]\n",
            "  Downloading aif360-0.6.1-py3-none-any.whl (259 kB)\n",
            "\u001b[2K     \u001b[90m━━━━━━━━━━━━━━━━━━━━━━━━━━━━━━━━━━━━━━━━\u001b[0m \u001b[32m259.7/259.7 kB\u001b[0m \u001b[31m4.5 MB/s\u001b[0m eta \u001b[36m0:00:00\u001b[0m\n",
            "\u001b[?25hRequirement already satisfied: numpy>=1.16 in /usr/local/lib/python3.10/dist-packages (from aif360[LFR,OptimPreproc]) (1.25.2)\n",
            "Requirement already satisfied: scipy>=1.2.0 in /usr/local/lib/python3.10/dist-packages (from aif360[LFR,OptimPreproc]) (1.11.4)\n",
            "Requirement already satisfied: pandas>=0.24.0 in /usr/local/lib/python3.10/dist-packages (from aif360[LFR,OptimPreproc]) (2.0.3)\n",
            "Requirement already satisfied: scikit-learn>=1.0 in /usr/local/lib/python3.10/dist-packages (from aif360[LFR,OptimPreproc]) (1.2.2)\n",
            "Requirement already satisfied: matplotlib in /usr/local/lib/python3.10/dist-packages (from aif360[LFR,OptimPreproc]) (3.7.1)\n",
            "Requirement already satisfied: torch in /usr/local/lib/python3.10/dist-packages (from aif360[LFR,OptimPreproc]) (2.3.0+cu121)\n",
            "Requirement already satisfied: cvxpy>=1.0 in /usr/local/lib/python3.10/dist-packages (from aif360[LFR,OptimPreproc]) (1.3.4)\n",
            "Requirement already satisfied: osqp>=0.4.1 in /usr/local/lib/python3.10/dist-packages (from cvxpy>=1.0->aif360[LFR,OptimPreproc]) (0.6.2.post8)\n",
            "Requirement already satisfied: ecos>=2 in /usr/local/lib/python3.10/dist-packages (from cvxpy>=1.0->aif360[LFR,OptimPreproc]) (2.0.13)\n",
            "Requirement already satisfied: scs>=1.1.6 in /usr/local/lib/python3.10/dist-packages (from cvxpy>=1.0->aif360[LFR,OptimPreproc]) (3.2.4.post2)\n",
            "Requirement already satisfied: setuptools>65.5.1 in /usr/local/lib/python3.10/dist-packages (from cvxpy>=1.0->aif360[LFR,OptimPreproc]) (67.7.2)\n",
            "Requirement already satisfied: python-dateutil>=2.8.2 in /usr/local/lib/python3.10/dist-packages (from pandas>=0.24.0->aif360[LFR,OptimPreproc]) (2.8.2)\n",
            "Requirement already satisfied: pytz>=2020.1 in /usr/local/lib/python3.10/dist-packages (from pandas>=0.24.0->aif360[LFR,OptimPreproc]) (2023.4)\n",
            "Requirement already satisfied: tzdata>=2022.1 in /usr/local/lib/python3.10/dist-packages (from pandas>=0.24.0->aif360[LFR,OptimPreproc]) (2024.1)\n",
            "Requirement already satisfied: joblib>=1.1.1 in /usr/local/lib/python3.10/dist-packages (from scikit-learn>=1.0->aif360[LFR,OptimPreproc]) (1.4.2)\n",
            "Requirement already satisfied: threadpoolctl>=2.0.0 in /usr/local/lib/python3.10/dist-packages (from scikit-learn>=1.0->aif360[LFR,OptimPreproc]) (3.5.0)\n",
            "Requirement already satisfied: contourpy>=1.0.1 in /usr/local/lib/python3.10/dist-packages (from matplotlib->aif360[LFR,OptimPreproc]) (1.2.1)\n",
            "Requirement already satisfied: cycler>=0.10 in /usr/local/lib/python3.10/dist-packages (from matplotlib->aif360[LFR,OptimPreproc]) (0.12.1)\n",
            "Requirement already satisfied: fonttools>=4.22.0 in /usr/local/lib/python3.10/dist-packages (from matplotlib->aif360[LFR,OptimPreproc]) (4.53.0)\n",
            "Requirement already satisfied: kiwisolver>=1.0.1 in /usr/local/lib/python3.10/dist-packages (from matplotlib->aif360[LFR,OptimPreproc]) (1.4.5)\n",
            "Requirement already satisfied: packaging>=20.0 in /usr/local/lib/python3.10/dist-packages (from matplotlib->aif360[LFR,OptimPreproc]) (24.0)\n",
            "Requirement already satisfied: pillow>=6.2.0 in /usr/local/lib/python3.10/dist-packages (from matplotlib->aif360[LFR,OptimPreproc]) (9.4.0)\n",
            "Requirement already satisfied: pyparsing>=2.3.1 in /usr/local/lib/python3.10/dist-packages (from matplotlib->aif360[LFR,OptimPreproc]) (3.1.2)\n",
            "Requirement already satisfied: filelock in /usr/local/lib/python3.10/dist-packages (from torch->aif360[LFR,OptimPreproc]) (3.14.0)\n",
            "Requirement already satisfied: typing-extensions>=4.8.0 in /usr/local/lib/python3.10/dist-packages (from torch->aif360[LFR,OptimPreproc]) (4.12.1)\n",
            "Requirement already satisfied: sympy in /usr/local/lib/python3.10/dist-packages (from torch->aif360[LFR,OptimPreproc]) (1.12.1)\n",
            "Requirement already satisfied: networkx in /usr/local/lib/python3.10/dist-packages (from torch->aif360[LFR,OptimPreproc]) (3.3)\n",
            "Requirement already satisfied: jinja2 in /usr/local/lib/python3.10/dist-packages (from torch->aif360[LFR,OptimPreproc]) (3.1.4)\n",
            "Requirement already satisfied: fsspec in /usr/local/lib/python3.10/dist-packages (from torch->aif360[LFR,OptimPreproc]) (2023.6.0)\n",
            "Collecting nvidia-cuda-nvrtc-cu12==12.1.105 (from torch->aif360[LFR,OptimPreproc])\n",
            "  Using cached nvidia_cuda_nvrtc_cu12-12.1.105-py3-none-manylinux1_x86_64.whl (23.7 MB)\n",
            "Collecting nvidia-cuda-runtime-cu12==12.1.105 (from torch->aif360[LFR,OptimPreproc])\n",
            "  Using cached nvidia_cuda_runtime_cu12-12.1.105-py3-none-manylinux1_x86_64.whl (823 kB)\n",
            "Collecting nvidia-cuda-cupti-cu12==12.1.105 (from torch->aif360[LFR,OptimPreproc])\n",
            "  Using cached nvidia_cuda_cupti_cu12-12.1.105-py3-none-manylinux1_x86_64.whl (14.1 MB)\n",
            "Collecting nvidia-cudnn-cu12==8.9.2.26 (from torch->aif360[LFR,OptimPreproc])\n",
            "  Using cached nvidia_cudnn_cu12-8.9.2.26-py3-none-manylinux1_x86_64.whl (731.7 MB)\n",
            "Collecting nvidia-cublas-cu12==12.1.3.1 (from torch->aif360[LFR,OptimPreproc])\n",
            "  Using cached nvidia_cublas_cu12-12.1.3.1-py3-none-manylinux1_x86_64.whl (410.6 MB)\n",
            "Collecting nvidia-cufft-cu12==11.0.2.54 (from torch->aif360[LFR,OptimPreproc])\n",
            "  Using cached nvidia_cufft_cu12-11.0.2.54-py3-none-manylinux1_x86_64.whl (121.6 MB)\n",
            "Collecting nvidia-curand-cu12==10.3.2.106 (from torch->aif360[LFR,OptimPreproc])\n",
            "  Using cached nvidia_curand_cu12-10.3.2.106-py3-none-manylinux1_x86_64.whl (56.5 MB)\n",
            "Collecting nvidia-cusolver-cu12==11.4.5.107 (from torch->aif360[LFR,OptimPreproc])\n",
            "  Using cached nvidia_cusolver_cu12-11.4.5.107-py3-none-manylinux1_x86_64.whl (124.2 MB)\n",
            "Collecting nvidia-cusparse-cu12==12.1.0.106 (from torch->aif360[LFR,OptimPreproc])\n",
            "  Using cached nvidia_cusparse_cu12-12.1.0.106-py3-none-manylinux1_x86_64.whl (196.0 MB)\n",
            "Collecting nvidia-nccl-cu12==2.20.5 (from torch->aif360[LFR,OptimPreproc])\n",
            "  Using cached nvidia_nccl_cu12-2.20.5-py3-none-manylinux2014_x86_64.whl (176.2 MB)\n",
            "Collecting nvidia-nvtx-cu12==12.1.105 (from torch->aif360[LFR,OptimPreproc])\n",
            "  Using cached nvidia_nvtx_cu12-12.1.105-py3-none-manylinux1_x86_64.whl (99 kB)\n",
            "Requirement already satisfied: triton==2.3.0 in /usr/local/lib/python3.10/dist-packages (from torch->aif360[LFR,OptimPreproc]) (2.3.0)\n",
            "Collecting nvidia-nvjitlink-cu12 (from nvidia-cusolver-cu12==11.4.5.107->torch->aif360[LFR,OptimPreproc])\n",
            "  Downloading nvidia_nvjitlink_cu12-12.5.40-py3-none-manylinux2014_x86_64.whl (21.3 MB)\n",
            "\u001b[2K     \u001b[90m━━━━━━━━━━━━━━━━━━━━━━━━━━━━━━━━━━━━━━━━\u001b[0m \u001b[32m21.3/21.3 MB\u001b[0m \u001b[31m54.1 MB/s\u001b[0m eta \u001b[36m0:00:00\u001b[0m\n",
            "\u001b[?25hRequirement already satisfied: qdldl in /usr/local/lib/python3.10/dist-packages (from osqp>=0.4.1->cvxpy>=1.0->aif360[LFR,OptimPreproc]) (0.1.7.post2)\n",
            "Requirement already satisfied: six>=1.5 in /usr/local/lib/python3.10/dist-packages (from python-dateutil>=2.8.2->pandas>=0.24.0->aif360[LFR,OptimPreproc]) (1.16.0)\n",
            "Requirement already satisfied: MarkupSafe>=2.0 in /usr/local/lib/python3.10/dist-packages (from jinja2->torch->aif360[LFR,OptimPreproc]) (2.1.5)\n",
            "Requirement already satisfied: mpmath<1.4.0,>=1.1.0 in /usr/local/lib/python3.10/dist-packages (from sympy->torch->aif360[LFR,OptimPreproc]) (1.3.0)\n",
            "Installing collected packages: nvidia-nvtx-cu12, nvidia-nvjitlink-cu12, nvidia-nccl-cu12, nvidia-curand-cu12, nvidia-cufft-cu12, nvidia-cuda-runtime-cu12, nvidia-cuda-nvrtc-cu12, nvidia-cuda-cupti-cu12, nvidia-cublas-cu12, nvidia-cusparse-cu12, nvidia-cudnn-cu12, nvidia-cusolver-cu12, aif360\n",
            "Successfully installed aif360-0.6.1 nvidia-cublas-cu12-12.1.3.1 nvidia-cuda-cupti-cu12-12.1.105 nvidia-cuda-nvrtc-cu12-12.1.105 nvidia-cuda-runtime-cu12-12.1.105 nvidia-cudnn-cu12-8.9.2.26 nvidia-cufft-cu12-11.0.2.54 nvidia-curand-cu12-10.3.2.106 nvidia-cusolver-cu12-11.4.5.107 nvidia-cusparse-cu12-12.1.0.106 nvidia-nccl-cu12-2.20.5 nvidia-nvjitlink-cu12-12.5.40 nvidia-nvtx-cu12-12.1.105\n"
          ]
        }
      ]
    },
    {
      "cell_type": "code",
      "execution_count": 4,
      "id": "7cac0b6a-fcfb-489d-9d22-685e45ad6387",
      "metadata": {
        "id": "7cac0b6a-fcfb-489d-9d22-685e45ad6387"
      },
      "outputs": [],
      "source": [
        "import pandas as pd\n",
        "from aif360.detectors.mdss_detector import bias_scan"
      ]
    },
    {
      "cell_type": "code",
      "execution_count": 124,
      "id": "804093d9-b4c2-40c5-a7f1-ef08dbeb06f2",
      "metadata": {
        "colab": {
          "base_uri": "https://localhost:8080/"
        },
        "id": "804093d9-b4c2-40c5-a7f1-ef08dbeb06f2",
        "outputId": "2a937fe3-ab0d-45b9-d4ed-e78e327301f6"
      },
      "outputs": [
        {
          "output_type": "stream",
          "name": "stdout",
          "text": [
            "Combined DataFrame:\n",
            "  當事人序        1 Unnamed: 2 Unnamed: 3  編號  年度 汽車駕籍地 機車駕籍地  戶籍地 發生時間  ...   X  \\\n",
            "0  NaN      NaN        NaN        NaN NaN NaN   NaN   NaN  NaN  NaN  ... NaN   \n",
            "1  列標籤  計數 - 案號  加總 - 死亡人數  加總 - 受傷人數 NaN NaN   NaN   NaN  NaN  NaN  ... NaN   \n",
            "2    1       88         89         36 NaN NaN   NaN   NaN  NaN  NaN  ... NaN   \n",
            "3    2    22554          0      29313 NaN NaN   NaN   NaN  NaN  NaN  ... NaN   \n",
            "4    3    16304          0          0 NaN NaN   NaN   NaN  NaN  NaN  ... NaN   \n",
            "\n",
            "    Y   路口   路段  路段2    季  上半年 PoliceStation 肇事原因  Delivery_Type  \n",
            "0 NaN  NaN  NaN  NaN  NaN  NaN           NaN  NaN            NaN  \n",
            "1 NaN  NaN  NaN  NaN  NaN  NaN           NaN  NaN            NaN  \n",
            "2 NaN  NaN  NaN  NaN  NaN  NaN           NaN  NaN            NaN  \n",
            "3 NaN  NaN  NaN  NaN  NaN  NaN           NaN  NaN            NaN  \n",
            "4 NaN  NaN  NaN  NaN  NaN  NaN           NaN  NaN            NaN  \n",
            "\n",
            "[5 rows x 108 columns]\n"
          ]
        }
      ],
      "source": [
        "# 定義 Excel 檔案的路徑\n",
        "#file_paths = [\n",
        "#    '105年A1-A4所有當事人.xlsx',\n",
        "#    '106年A1-A4所有當事人.xlsx',\n",
        "#    '107年A1-A4所有當事人(新增戶籍地).xlsx',\n",
        "#    '108年A1-A4所有當事人(新增戶籍地).xlsx',\n",
        "#    '109年A1-A4所有當事人(新增戶籍地).xlsx'\n",
        "#]\n",
        "\n",
        "selected_columns = ['性別', '年齡', '車種', '15事故類型及型態', '22受傷程度', '7速限', 'Delivery_Type']\n",
        "\n",
        "# 初始化一個空的 DataFrame 用於存儲合併後的數據\n",
        "df_combined = pd.DataFrame()\n",
        "\n",
        "# 讀取每個 Excel 文件並合併到一個 DataFrame 中\n",
        "#for file_path in file_paths:\n",
        "#    df = pd.read_excel(file_path, engine='openpyxl')\n",
        "#    df_combined = pd.concat([df_combined, df], ignore_index=True)\n",
        "\n",
        "df = pd.read_excel('105年A1-A4所有當事人.xlsx', engine='openpyxl')\n",
        "df_combined = pd.concat([df_combined, df], ignore_index=True)\n",
        "\n",
        "df = pd.read_excel('106年A1-A4所有當事人.xlsx', engine='openpyxl')\n",
        "df_combined = pd.concat([df_combined, df], ignore_index=True)\n",
        "\n",
        "df = pd.read_excel('107年A1-A4所有當事人(新增戶籍地).xlsx', engine='openpyxl')\n",
        "df_combined = pd.concat([df_combined, df], ignore_index=True)\n",
        "\n",
        "df = pd.read_excel('108年A1-A4所有當事人(新增戶籍地).xlsx', engine='openpyxl')\n",
        "df_combined = pd.concat([df_combined, df], ignore_index=True)\n",
        "\n",
        "df = pd.read_excel('109年A1-A4所有當事人(新增戶籍地).xlsx', engine='openpyxl')\n",
        "df_combined = pd.concat([df_combined, df], ignore_index=True)\n",
        "# 檢查合併後的數據\n",
        "print(\"Combined DataFrame:\")\n",
        "print(df_combined.head())\n"
      ]
    },
    {
      "cell_type": "code",
      "execution_count": 4,
      "id": "9e965fce-2cdc-440e-9b22-38e5f31cf409",
      "metadata": {
        "id": "9e965fce-2cdc-440e-9b22-38e5f31cf409"
      },
      "outputs": [],
      "source": [
        "# 讀取資料\n",
        "#file_path = '108年A1-A4所有當事人(新增戶籍地).xlsx'\n",
        "#df = pd.read_excel(file_path, header=0, engine='openpyxl')\n",
        "#print(df.head())"
      ]
    },
    {
      "cell_type": "code",
      "execution_count": 125,
      "id": "f9e3f239-447c-47d9-9996-29359a26b3a8",
      "metadata": {
        "id": "f9e3f239-447c-47d9-9996-29359a26b3a8",
        "outputId": "26f1a8ac-3ba1-4735-f218-119e1e2a5ae0",
        "colab": {
          "base_uri": "https://localhost:8080/"
        }
      },
      "outputs": [
        {
          "output_type": "stream",
          "name": "stdout",
          "text": [
            "After replacing '性別':\n",
            "0    3.0\n",
            "1    1.0\n",
            "2    1.0\n",
            "3    1.0\n",
            "4    3.0\n",
            "Name: 性別, dtype: float64\n",
            "After dropping NA '性別':\n",
            "     性別    年齡   車種  15事故類型及型態  22受傷程度   7速限  Delivery_Type\n",
            "0   3.0   0.0  G06        NaN     NaN  50.0            0.0\n",
            "1   1.0  55.0  H03        NaN     NaN  50.0            0.0\n",
            "2   1.0  42.0  B12        NaN     NaN  40.0            0.0\n",
            "3   1.0  40.0  B01        NaN     NaN  40.0            0.0\n",
            "4   3.0   0.0  NaN        NaN     NaN   NaN            0.0\n",
            "5   1.0  40.0  B03        NaN     NaN   NaN            0.0\n",
            "6   1.0  20.0  B03        NaN     NaN  40.0            0.0\n",
            "7   1.0  30.0  B03        NaN     NaN  40.0            0.0\n",
            "8   1.0  18.0  C03       17.0     2.0  50.0            0.0\n",
            "9   2.0  53.0  C03       17.0     2.0  50.0            0.0\n",
            "10  1.0  20.0  B03       12.0     2.0  40.0            0.0\n",
            "11  2.0  48.0  B03        NaN     NaN  50.0            0.0\n",
            "12  1.0  27.0  C03       12.0     2.0  40.0            0.0\n",
            "13  1.0  30.0  B03        NaN     NaN  50.0            0.0\n",
            "14  2.0  19.0  H02       12.0     2.0  40.0            0.0\n",
            "15  2.0  24.0  C03        NaN     NaN  30.0            0.0\n",
            "16  1.0  22.0  C03        NaN     NaN  30.0            0.0\n",
            "17  1.0  31.0  C03       13.0     2.0  50.0            0.0\n",
            "18  1.0  44.0  B01       13.0     3.0  50.0            0.0\n",
            "19  2.0  35.0  B03        NaN     NaN   NaN            0.0\n"
          ]
        }
      ],
      "source": [
        "# 選擇指定欄位\n",
        "df_cleaned = df[['性別', '年齡', '車種', '15事故類型及型態', '22受傷程度', '7速限', 'Delivery_Type']].copy()\n",
        "\n",
        "# 進行欄位轉換和清理\n",
        "# '性別' 欄位：男性設為1，女性設為2，移除空白欄位\n",
        "df_cleaned['性別'] = df_cleaned['性別'].replace({'1': 1, '2': 2}).dropna()\n",
        "print(\"After replacing '性別':\")\n",
        "print(df_cleaned['性別'].head())\n",
        "\n",
        "df_cleaned = df_cleaned.dropna(subset=['性別'])\n",
        "print(\"After dropping NA '性別':\")\n",
        "print(df_cleaned.head(20))"
      ]
    },
    {
      "cell_type": "code",
      "source": [
        "bins = [-float('inf'), 30, 50, float('inf')]\n",
        "labels = [0, 1, 2]\n",
        "df_cleaned['7速限'] = pd.cut(df_cleaned['7速限'].astype(float), bins=bins, labels=labels, right=False)\n",
        "print(\"After binning '7速限':\")\n",
        "print(df_cleaned['7速限'].head(20))\n",
        "\n",
        "df_cleaned = df_cleaned.dropna(subset=['7速限'])\n",
        "print(\"After dropping NA '7速限':\")\n",
        "print(df_cleaned.head(20))\n",
        "\n",
        "df_cleaned_1 = df_cleaned[df_cleaned['7速限'] == 0]\n",
        "print(\"Records where '7速限' is 0:\")\n",
        "print(df_cleaned_1)"
      ],
      "metadata": {
        "colab": {
          "base_uri": "https://localhost:8080/"
        },
        "id": "WUUNxGQ_lGa3",
        "outputId": "5fc1bafd-d42d-4dd8-e67d-7150f29e88fc"
      },
      "id": "WUUNxGQ_lGa3",
      "execution_count": 126,
      "outputs": [
        {
          "output_type": "stream",
          "name": "stdout",
          "text": [
            "After binning '7速限':\n",
            "0       2\n",
            "1       2\n",
            "2       1\n",
            "3       1\n",
            "4     NaN\n",
            "5     NaN\n",
            "6       1\n",
            "7       1\n",
            "8       2\n",
            "9       2\n",
            "10      1\n",
            "11      2\n",
            "12      1\n",
            "13      2\n",
            "14      1\n",
            "15      1\n",
            "16      1\n",
            "17      2\n",
            "18      2\n",
            "19    NaN\n",
            "Name: 7速限, dtype: category\n",
            "Categories (3, int64): [0 < 1 < 2]\n",
            "After dropping NA '7速限':\n",
            "     性別    年齡   車種  15事故類型及型態  22受傷程度 7速限  Delivery_Type\n",
            "0   3.0   0.0  G06        NaN     NaN   2            0.0\n",
            "1   1.0  55.0  H03        NaN     NaN   2            0.0\n",
            "2   1.0  42.0  B12        NaN     NaN   1            0.0\n",
            "3   1.0  40.0  B01        NaN     NaN   1            0.0\n",
            "6   1.0  20.0  B03        NaN     NaN   1            0.0\n",
            "7   1.0  30.0  B03        NaN     NaN   1            0.0\n",
            "8   1.0  18.0  C03       17.0     2.0   2            0.0\n",
            "9   2.0  53.0  C03       17.0     2.0   2            0.0\n",
            "10  1.0  20.0  B03       12.0     2.0   1            0.0\n",
            "11  2.0  48.0  B03        NaN     NaN   2            0.0\n",
            "12  1.0  27.0  C03       12.0     2.0   1            0.0\n",
            "13  1.0  30.0  B03        NaN     NaN   2            0.0\n",
            "14  2.0  19.0  H02       12.0     2.0   1            0.0\n",
            "15  2.0  24.0  C03        NaN     NaN   1            0.0\n",
            "16  1.0  22.0  C03        NaN     NaN   1            0.0\n",
            "17  1.0  31.0  C03       13.0     2.0   2            0.0\n",
            "18  1.0  44.0  B01       13.0     3.0   2            0.0\n",
            "21  1.0  33.0  B03        NaN     NaN   2            0.0\n",
            "22  1.0  59.0  B01        NaN     NaN   2            0.0\n",
            "26  1.0  61.0  B03        NaN     NaN   2            0.0\n",
            "Records where '7速限' is 0:\n",
            "         性別    年齡   車種  15事故類型及型態  22受傷程度 7速限  Delivery_Type\n",
            "48      4.0   0.0  B03        NaN     NaN   0            0.0\n",
            "49      1.0  26.0  B03        NaN     NaN   0            0.0\n",
            "59      1.0  18.0  C03        NaN     NaN   0            0.0\n",
            "60      1.0  22.0  C03        NaN     NaN   0            0.0\n",
            "61      1.0  18.0  C03        NaN     NaN   0            0.0\n",
            "...     ...   ...  ...        ...     ...  ..            ...\n",
            "213753  1.0  51.0  B12        NaN     NaN   0            0.0\n",
            "213756  1.0  24.0  B03        NaN     NaN   0            0.0\n",
            "213779  2.0  19.0  C03        NaN     NaN   0            0.0\n",
            "213780  3.0   0.0  H02        NaN     NaN   0            0.0\n",
            "213781  1.0  18.0  H02        NaN     NaN   0            0.0\n",
            "\n",
            "[9261 rows x 7 columns]\n"
          ]
        }
      ]
    },
    {
      "cell_type": "code",
      "execution_count": 127,
      "id": "f9293cb8-ba77-48f5-80fd-55791d633438",
      "metadata": {
        "id": "f9293cb8-ba77-48f5-80fd-55791d633438",
        "outputId": "cd089656-7721-4f4d-947c-b3c52efd08d3",
        "colab": {
          "base_uri": "https://localhost:8080/"
        }
      },
      "outputs": [
        {
          "output_type": "stream",
          "name": "stdout",
          "text": [
            "After binning '年齡':\n",
            "0    1\n",
            "1    2\n",
            "2    2\n",
            "3    2\n",
            "6    2\n",
            "Name: 年齡, dtype: category\n",
            "Categories (3, int64): [1 < 2 < 3]\n",
            "After dropping NA '年齡':\n",
            "    性別 年齡   車種  15事故類型及型態  22受傷程度 7速限  Delivery_Type\n",
            "0  3.0  1  G06        NaN     NaN   2            0.0\n",
            "1  1.0  2  H03        NaN     NaN   2            0.0\n",
            "2  1.0  2  B12        NaN     NaN   1            0.0\n",
            "3  1.0  2  B01        NaN     NaN   1            0.0\n",
            "6  1.0  2  B03        NaN     NaN   1            0.0\n"
          ]
        }
      ],
      "source": [
        "# '年齡' 欄位：18歲以下設為1，19至64歲設為2，65歲以上設為3，移除空白欄位\n",
        "df_cleaned['年齡'] = pd.cut(df_cleaned['年齡'].astype(float), bins=[0, 18, 64, float('inf')], labels=[1, 2, 3], right=False)\n",
        "print(\"After binning '年齡':\")\n",
        "print(df_cleaned['年齡'].head())\n",
        "\n",
        "df_cleaned = df_cleaned.dropna(subset=['年齡'])\n",
        "print(\"After dropping NA '年齡':\")\n",
        "print(df_cleaned.head())"
      ]
    },
    {
      "cell_type": "code",
      "execution_count": 128,
      "id": "30496acc-787b-4179-9a10-356ba508d69a",
      "metadata": {
        "id": "30496acc-787b-4179-9a10-356ba508d69a",
        "outputId": "0f0c7d5f-d364-43b9-f465-186189a33b1b",
        "colab": {
          "base_uri": "https://localhost:8080/"
        }
      },
      "outputs": [
        {
          "output_type": "stream",
          "name": "stdout",
          "text": [
            "After replacing '車種':\n",
            "0    0\n",
            "1    0\n",
            "2    0\n",
            "3    0\n",
            "6    1\n",
            "Name: 車種, dtype: int64\n",
            "After dropping NA '車種':\n",
            "    性別 年齡  車種  15事故類型及型態  22受傷程度 7速限  Delivery_Type\n",
            "0  3.0  1   0        NaN     NaN   2            0.0\n",
            "1  1.0  2   0        NaN     NaN   2            0.0\n",
            "2  1.0  2   0        NaN     NaN   1            0.0\n",
            "3  1.0  2   0        NaN     NaN   1            0.0\n",
            "6  1.0  2   1        NaN     NaN   1            0.0\n"
          ]
        }
      ],
      "source": [
        "# '車種' 欄位：B03設為1，C03設為2，其他全部設為0\n",
        "df_cleaned['車種'] = df_cleaned['車種'].apply(lambda x: 1 if x == 'B03' else (2 if x == 'C03' else 0))\n",
        "print(\"After replacing '車種':\")\n",
        "print(df_cleaned['車種'].head())\n",
        "\n",
        "df_cleaned = df_cleaned.dropna(subset=['車種'])\n",
        "print(\"After dropping NA '車種':\")\n",
        "print(df_cleaned.head())"
      ]
    },
    {
      "cell_type": "code",
      "source": [
        "# 'Delivery_Type' 欄位：空白欄位設為0，非空白欄位設為1\n",
        "df_cleaned['Delivery_Type'] = df_cleaned['Delivery_Type'].apply(lambda x: 0 if x == 0 else 1)\n",
        "print(\"After processing 'Delivery_Type':\")\n",
        "print(df_cleaned['Delivery_Type'].head())\n",
        "\n",
        "df_cleaned = df_cleaned.dropna(subset=['Delivery_Type'])\n",
        "print(\"After dropping NA 'Delivery_Type':\")\n",
        "print(df_cleaned.head())"
      ],
      "metadata": {
        "id": "Yyhdweq7Ddm9",
        "colab": {
          "base_uri": "https://localhost:8080/"
        },
        "outputId": "b2a8e0a2-beed-4790-a8c1-cad225e008ee"
      },
      "id": "Yyhdweq7Ddm9",
      "execution_count": 129,
      "outputs": [
        {
          "output_type": "stream",
          "name": "stdout",
          "text": [
            "After processing 'Delivery_Type':\n",
            "0    0\n",
            "1    0\n",
            "2    0\n",
            "3    0\n",
            "6    0\n",
            "Name: Delivery_Type, dtype: int64\n",
            "After dropping NA 'Delivery_Type':\n",
            "    性別 年齡  車種  15事故類型及型態  22受傷程度 7速限  Delivery_Type\n",
            "0  3.0  1   0        NaN     NaN   2              0\n",
            "1  1.0  2   0        NaN     NaN   2              0\n",
            "2  1.0  2   0        NaN     NaN   1              0\n",
            "3  1.0  2   0        NaN     NaN   1              0\n",
            "6  1.0  2   1        NaN     NaN   1              0\n"
          ]
        }
      ]
    },
    {
      "cell_type": "code",
      "execution_count": 130,
      "id": "482194ca-ca4d-4bfb-a101-76f8a587bd62",
      "metadata": {
        "id": "482194ca-ca4d-4bfb-a101-76f8a587bd62",
        "outputId": "4ce3c33b-523a-42a2-8987-2e9ca23c998a",
        "colab": {
          "base_uri": "https://localhost:8080/"
        }
      },
      "outputs": [
        {
          "output_type": "stream",
          "name": "stdout",
          "text": [
            "After processing '15事故類型及型態':\n",
            "0    0\n",
            "1    0\n",
            "2    0\n",
            "3    0\n",
            "6    0\n",
            "Name: 15事故類型及型態, dtype: int64\n",
            "After dropping NA '15事故類型及型態':\n",
            "    性別 年齡  車種  15事故類型及型態  22受傷程度 7速限  Delivery_Type\n",
            "0  3.0  1   0          0     NaN   2              0\n",
            "1  1.0  2   0          0     NaN   2              0\n",
            "2  1.0  2   0          0     NaN   1              0\n",
            "3  1.0  2   0          0     NaN   1              0\n",
            "6  1.0  2   1          0     NaN   1              0\n"
          ]
        }
      ],
      "source": [
        "# '15事故類型及型態' 欄位：空白欄位設為0，非空白欄位設為1\n",
        "df_cleaned['15事故類型及型態'] = df_cleaned['15事故類型及型態'].notna().astype(int)\n",
        "print(\"After processing '15事故類型及型態':\")\n",
        "print(df_cleaned['15事故類型及型態'].head())\n",
        "\n",
        "df_cleaned = df_cleaned.dropna(subset=['15事故類型及型態'])\n",
        "print(\"After dropping NA '15事故類型及型態':\")\n",
        "print(df_cleaned.head())"
      ]
    },
    {
      "cell_type": "code",
      "execution_count": 131,
      "id": "f22e54fc-cfcf-478b-bcf0-5cd64da7b3ab",
      "metadata": {
        "id": "f22e54fc-cfcf-478b-bcf0-5cd64da7b3ab",
        "outputId": "c97ba608-a598-4b66-9a83-549b0270eae3",
        "colab": {
          "base_uri": "https://localhost:8080/"
        }
      },
      "outputs": [
        {
          "output_type": "stream",
          "name": "stdout",
          "text": [
            "After processing '22受傷程度':\n",
            "0    0\n",
            "1    0\n",
            "2    0\n",
            "3    0\n",
            "6    0\n",
            "Name: 22受傷程度, dtype: int64\n",
            "After dropping NA '22受傷程度':\n",
            "    性別 年齡  車種  15事故類型及型態  22受傷程度 7速限  Delivery_Type\n",
            "0  3.0  1   0          0       0   2              0\n",
            "1  1.0  2   0          0       0   2              0\n",
            "2  1.0  2   0          0       0   1              0\n",
            "3  1.0  2   0          0       0   1              0\n",
            "6  1.0  2   1          0       0   1              0\n"
          ]
        }
      ],
      "source": [
        "# '22受傷程度' 欄位：3設為1(無受傷)，其他全部設為0\n",
        "df_cleaned['22受傷程度'] = (df_cleaned['22受傷程度'] == 3).astype(int)\n",
        "print(\"After processing '22受傷程度':\")\n",
        "print(df_cleaned['22受傷程度'].head())\n",
        "\n",
        "df_cleaned = df_cleaned.dropna(subset=['22受傷程度'])\n",
        "print(\"After dropping NA '22受傷程度':\")\n",
        "print(df_cleaned.head())"
      ]
    },
    {
      "cell_type": "code",
      "execution_count": 132,
      "id": "aa1c24ca-5266-4034-9076-b30738283a86",
      "metadata": {
        "id": "aa1c24ca-5266-4034-9076-b30738283a86",
        "outputId": "a46e7cf2-d743-4a08-d619-6dbed50f7049",
        "colab": {
          "base_uri": "https://localhost:8080/"
        }
      },
      "outputs": [
        {
          "output_type": "stream",
          "name": "stdout",
          "text": [
            "Cleaned DataFrame:\n",
            "     性別 年齡  車種  15事故類型及型態  22受傷程度 7速限  Delivery_Type\n",
            "0   3.0  1   0          0       0   2              0\n",
            "1   1.0  2   0          0       0   2              0\n",
            "2   1.0  2   0          0       0   1              0\n",
            "3   1.0  2   0          0       0   1              0\n",
            "6   1.0  2   1          0       0   1              0\n",
            "7   1.0  2   1          0       0   1              0\n",
            "8   1.0  2   2          1       0   2              0\n",
            "9   2.0  2   2          1       0   2              0\n",
            "10  1.0  2   1          1       0   1              0\n",
            "11  2.0  2   1          0       0   2              0\n",
            "12  1.0  2   2          1       0   1              0\n",
            "13  1.0  2   1          0       0   2              0\n",
            "14  2.0  2   0          1       0   1              0\n",
            "15  2.0  2   2          0       0   1              0\n",
            "16  1.0  2   2          0       0   1              0\n",
            "17  1.0  2   2          1       0   2              0\n",
            "18  1.0  2   0          1       1   2              0\n",
            "21  1.0  2   1          0       0   2              0\n",
            "22  1.0  2   0          0       0   2              0\n",
            "26  1.0  2   1          0       0   2              0\n"
          ]
        }
      ],
      "source": [
        "# 檢查清理後的數據\n",
        "print(\"Cleaned DataFrame:\")\n",
        "print(df_cleaned.head(20))\n"
      ]
    },
    {
      "cell_type": "code",
      "source": [
        "# 定義特徵和目標變數\n",
        "features = df_cleaned[['性別']]\n",
        "y = df_cleaned['22受傷程度']\n",
        "\n",
        "# 設置 favorable_value 為 'high'，表示 \"無受傷\" 是有利結果\n",
        "favorable_value = 'high'\n",
        "\n",
        "# 執行 bias_scan 函數\n",
        "privileged_subset = bias_scan(data=features, observations=y, favorable_value=favorable_value,\n",
        "                              scoring='BerkJones', overpredicted=True, penalty=50,\n",
        "                              mode='continuous', alpha=0.1)  # 調整 alpha 值\n",
        "\n",
        "unprivileged_subset = bias_scan(data=features, observations=y, favorable_value=favorable_value,\n",
        "                                scoring='BerkJones', overpredicted=False, penalty=50,\n",
        "                                mode='continuous', alpha=0.1)  # 調整 alpha 值\n",
        "#BerkJones continuous\n",
        "# 檢測特權群體\n",
        "print(\"Privileged Subset:\")\n",
        "print(privileged_subset)\n",
        "if privileged_subset[0]:\n",
        "    to_choose = features[privileged_subset[0].keys()].isin(privileged_subset[0]).all(axis=1)\n",
        "    temp_df = df_cleaned.loc[to_choose].copy()\n",
        "    print(\"Our detected privileged group has a size of {}, we observe {}, but our model predicts {}\"\n",
        "          .format(len(temp_df), temp_df['22受傷程度'].mean(), y.mean()))\n",
        "else:\n",
        "    print(\"No privileged subset detected.\")\n",
        "\n",
        "# 檢查非特權群體\n",
        "print(\"Unprivileged Subset:\")\n",
        "print(unprivileged_subset)\n",
        "if unprivileged_subset[0]:\n",
        "    to_choose = features[unprivileged_subset[0].keys()].isin(unprivileged_subset[0]).all(axis=1)\n",
        "    temp_df = df_cleaned.loc[to_choose].copy()\n",
        "    print(\"Our detected unprivileged group has a size of {}, we observe {}, but our model predicts {}\"\n",
        "          .format(len(temp_df), temp_df['22受傷程度'].mean(), y.mean()))\n",
        "else:\n",
        "    print(\"No unprivileged subset detected.\")"
      ],
      "metadata": {
        "colab": {
          "base_uri": "https://localhost:8080/"
        },
        "id": "_Y21Dv4Mbkig",
        "outputId": "3efb1978-5bd7-4cd9-e4f9-3c76e9f57fb6"
      },
      "id": "_Y21Dv4Mbkig",
      "execution_count": 146,
      "outputs": [
        {
          "output_type": "stream",
          "name": "stdout",
          "text": [
            "Privileged Subset:\n",
            "({}, 20241.7569)\n",
            "No privileged subset detected.\n",
            "Unprivileged Subset:\n",
            "({'性別': [1.0]}, 627.8775)\n",
            "Our detected unprivileged group has a size of 137188, we observe 0.13109018281482346, but our model predicts 0.11391377219327604\n"
          ]
        }
      ]
    },
    {
      "cell_type": "code",
      "source": [
        "# 定義特徵和目標變數\n",
        "features = df_cleaned[['年齡']]\n",
        "y = df_cleaned['22受傷程度']\n",
        "\n",
        "# 設置 favorable_value 為 'high'，表示 \"無受傷\" 是有利結果\n",
        "favorable_value = 'high'\n",
        "\n",
        "# 執行 bias_scan 函數\n",
        "privileged_subset = bias_scan(data=features, observations=y, favorable_value=favorable_value,\n",
        "                              scoring='BerkJones', overpredicted=True, penalty=50,\n",
        "                              mode='continuous', alpha=0.1)  # 調整 alpha 值\n",
        "\n",
        "unprivileged_subset = bias_scan(data=features, observations=y, favorable_value=favorable_value,\n",
        "                                scoring='BerkJones', overpredicted=False, penalty=50,\n",
        "                                mode='continuous', alpha=0.1)  # 調整 alpha 值\n",
        "#BerkJones continuous\n",
        "# 檢測特權群體\n",
        "print(\"Privileged Subset:\")\n",
        "print(privileged_subset)\n",
        "if privileged_subset[0]:\n",
        "    to_choose = features[privileged_subset[0].keys()].isin(privileged_subset[0]).all(axis=1)\n",
        "    temp_df = df_cleaned.loc[to_choose].copy()\n",
        "    print(\"Our detected privileged group has a size of {}, we observe {}, but our model predicts {}\"\n",
        "          .format(len(temp_df), temp_df['22受傷程度'].mean(), y.mean()))\n",
        "else:\n",
        "    print(\"No privileged subset detected.\")\n",
        "\n",
        "# 檢查非特權群體\n",
        "print(\"Unprivileged Subset:\")\n",
        "print(unprivileged_subset)\n",
        "if unprivileged_subset[0]:\n",
        "    to_choose = features[unprivileged_subset[0].keys()].isin(unprivileged_subset[0]).all(axis=1)\n",
        "    temp_df = df_cleaned.loc[to_choose].copy()\n",
        "    print(\"Our detected unprivileged group has a size of {}, we observe {}, but our model predicts {}\"\n",
        "          .format(len(temp_df), temp_df['22受傷程度'].mean(), y.mean()))\n",
        "else:\n",
        "    print(\"No unprivileged subset detected.\")"
      ],
      "metadata": {
        "colab": {
          "base_uri": "https://localhost:8080/"
        },
        "id": "DYjYO4HBzgrD",
        "outputId": "9652caf5-91e9-4484-83ca-85fc670827e3"
      },
      "id": "DYjYO4HBzgrD",
      "execution_count": 140,
      "outputs": [
        {
          "output_type": "stream",
          "name": "stdout",
          "text": [
            "Privileged Subset:\n",
            "({}, 20241.7569)\n",
            "No privileged subset detected.\n",
            "Unprivileged Subset:\n",
            "({'年齡': [2, 3]}, 317.8028)\n",
            "Our detected unprivileged group has a size of 179749, we observe 0.12105769712209803, but our model predicts 0.11391377219327604\n"
          ]
        }
      ]
    },
    {
      "cell_type": "code",
      "source": [
        "# 定義特徵和目標變數\n",
        "features = df_cleaned[['車種']]\n",
        "y = df_cleaned['22受傷程度']\n",
        "\n",
        "# 設置 favorable_value 為 'high'，表示 \"無受傷\" 是有利結果\n",
        "favorable_value = 'high'\n",
        "\n",
        "# 執行 bias_scan 函數\n",
        "privileged_subset = bias_scan(data=features, observations=y, favorable_value=favorable_value,\n",
        "                              scoring='BerkJones', overpredicted=True, penalty=50,\n",
        "                              mode='continuous', alpha=0.1)  # 調整 alpha 值\n",
        "\n",
        "unprivileged_subset = bias_scan(data=features, observations=y, favorable_value=favorable_value,\n",
        "                                scoring='BerkJones', overpredicted=False, penalty=50,\n",
        "                                mode='continuous', alpha=0.1)  # 調整 alpha 值\n",
        "#BerkJones continuous\n",
        "# 檢測特權群體\n",
        "print(\"Privileged Subset:\")\n",
        "print(privileged_subset)\n",
        "if privileged_subset[0]:\n",
        "    to_choose = features[privileged_subset[0].keys()].isin(privileged_subset[0]).all(axis=1)\n",
        "    temp_df = df_cleaned.loc[to_choose].copy()\n",
        "    print(\"Our detected privileged group has a size of {}, we observe {}, but our model predicts {}\"\n",
        "          .format(len(temp_df), temp_df['22受傷程度'].mean(), y.mean()))\n",
        "else:\n",
        "    print(\"No privileged subset detected.\")\n",
        "\n",
        "# 檢查非特權群體\n",
        "print(\"Unprivileged Subset:\")\n",
        "print(unprivileged_subset)\n",
        "if unprivileged_subset[0]:\n",
        "    to_choose = features[unprivileged_subset[0].keys()].isin(unprivileged_subset[0]).all(axis=1)\n",
        "    temp_df = df_cleaned.loc[to_choose].copy()\n",
        "    print(\"Our detected unprivileged group has a size of {}, we observe {}, but our model predicts {}\"\n",
        "          .format(len(temp_df), temp_df['22受傷程度'].mean(), y.mean()))\n",
        "else:\n",
        "    print(\"No unprivileged subset detected.\")"
      ],
      "metadata": {
        "colab": {
          "base_uri": "https://localhost:8080/"
        },
        "id": "aQGxBEaBzt9K",
        "outputId": "5dd4e125-1ada-4c88-f76f-bc75230ae1f7"
      },
      "id": "aQGxBEaBzt9K",
      "execution_count": 141,
      "outputs": [
        {
          "output_type": "stream",
          "name": "stdout",
          "text": [
            "Privileged Subset:\n",
            "({}, 20241.7569)\n",
            "No privileged subset detected.\n",
            "Unprivileged Subset:\n",
            "({'車種': [0, 1]}, 548.6769)\n",
            "Our detected unprivileged group has a size of 133783, we observe 0.13078642278914362, but our model predicts 0.11391377219327604\n"
          ]
        }
      ]
    },
    {
      "cell_type": "code",
      "source": [
        "# 定義特徵和目標變數\n",
        "features = df_cleaned[['15事故類型及型態']]\n",
        "y = df_cleaned['22受傷程度']\n",
        "\n",
        "# 設置 favorable_value 為 'high'，表示 \"無受傷\" 是有利結果\n",
        "favorable_value = 'high'\n",
        "\n",
        "# 執行 bias_scan 函數\n",
        "privileged_subset = bias_scan(data=features, observations=y, favorable_value=favorable_value,\n",
        "                              scoring='BerkJones', overpredicted=True, penalty=50,\n",
        "                              mode='continuous', alpha=0.1)  # 調整 alpha 值\n",
        "\n",
        "unprivileged_subset = bias_scan(data=features, observations=y, favorable_value=favorable_value,\n",
        "                                scoring='BerkJones', overpredicted=False, penalty=50,\n",
        "                                mode='continuous', alpha=0.1)  # 調整 alpha 值\n",
        "#BerkJones continuous\n",
        "# 檢測特權群體\n",
        "print(\"Privileged Subset:\")\n",
        "print(privileged_subset)\n",
        "if privileged_subset[0]:\n",
        "    to_choose = features[privileged_subset[0].keys()].isin(privileged_subset[0]).all(axis=1)\n",
        "    temp_df = df_cleaned.loc[to_choose].copy()\n",
        "    print(\"Our detected privileged group has a size of {}, we observe {}, but our model predicts {}\"\n",
        "          .format(len(temp_df), temp_df['22受傷程度'].mean(), y.mean()))\n",
        "else:\n",
        "    print(\"No privileged subset detected.\")\n",
        "\n",
        "# 檢查非特權群體\n",
        "print(\"Unprivileged Subset:\")\n",
        "print(unprivileged_subset)\n",
        "if unprivileged_subset[0]:\n",
        "    to_choose = features[unprivileged_subset[0].keys()].isin(unprivileged_subset[0]).all(axis=1)\n",
        "    temp_df = df_cleaned.loc[to_choose].copy()\n",
        "    print(\"Our detected unprivileged group has a size of {}, we observe {}, but our model predicts {}\"\n",
        "          .format(len(temp_df), temp_df['22受傷程度'].mean(), y.mean()))\n",
        "else:\n",
        "    print(\"No unprivileged subset detected.\")"
      ],
      "metadata": {
        "colab": {
          "base_uri": "https://localhost:8080/"
        },
        "id": "jK3AKDl1z2qg",
        "outputId": "16239fbd-06e7-4e65-ee72-b3d4ff840eca"
      },
      "id": "jK3AKDl1z2qg",
      "execution_count": 142,
      "outputs": [
        {
          "output_type": "stream",
          "name": "stdout",
          "text": [
            "Privileged Subset:\n",
            "({}, 20241.7569)\n",
            "No privileged subset detected.\n",
            "Unprivileged Subset:\n",
            "({'15事故類型及型態': [1]}, 15321.6242)\n",
            "Our detected unprivileged group has a size of 59000, we observe 0.3706949152542373, but our model predicts 0.11391377219327604\n"
          ]
        }
      ]
    },
    {
      "cell_type": "code",
      "source": [
        "# 定義特徵和目標變數\n",
        "features = df_cleaned[['Delivery_Type']]\n",
        "y = df_cleaned['22受傷程度']\n",
        "\n",
        "# 設置 favorable_value 為 'high'，表示 \"無受傷\" 是有利結果\n",
        "favorable_value = 'high'\n",
        "\n",
        "# 執行 bias_scan 函數\n",
        "privileged_subset = bias_scan(data=features, observations=y, favorable_value=favorable_value,\n",
        "                              scoring='BerkJones', overpredicted=True, penalty=50,\n",
        "                              mode='continuous', alpha=0.1)  # 調整 alpha 值\n",
        "\n",
        "unprivileged_subset = bias_scan(data=features, observations=y, favorable_value=favorable_value,\n",
        "                                scoring='BerkJones', overpredicted=False, penalty=50,\n",
        "                                mode='continuous', alpha=0.1)  # 調整 alpha 值\n",
        "#BerkJones continuous\n",
        "# 檢測特權群體\n",
        "print(\"Privileged Subset:\")\n",
        "print(privileged_subset)\n",
        "if privileged_subset[0]:\n",
        "    to_choose = features[privileged_subset[0].keys()].isin(privileged_subset[0]).all(axis=1)\n",
        "    temp_df = df_cleaned.loc[to_choose].copy()\n",
        "    print(\"Our detected privileged group has a size of {}, we observe {}, but our model predicts {}\"\n",
        "          .format(len(temp_df), temp_df['22受傷程度'].mean(), y.mean()))\n",
        "else:\n",
        "    print(\"No privileged subset detected.\")\n",
        "\n",
        "# 檢查非特權群體\n",
        "print(\"Unprivileged Subset:\")\n",
        "print(unprivileged_subset)\n",
        "if unprivileged_subset[0]:\n",
        "    to_choose = features[unprivileged_subset[0].keys()].isin(unprivileged_subset[0]).all(axis=1)\n",
        "    temp_df = df_cleaned.loc[to_choose].copy()\n",
        "    print(\"Our detected unprivileged group has a size of {}, we observe {}, but our model predicts {}\"\n",
        "          .format(len(temp_df), temp_df['22受傷程度'].mean(), y.mean()))\n",
        "else:\n",
        "    print(\"No unprivileged subset detected.\")"
      ],
      "metadata": {
        "colab": {
          "base_uri": "https://localhost:8080/"
        },
        "id": "5lI_Tubjz8Gk",
        "outputId": "fb8ec997-7156-4aa3-bc57-3f4463fafe9d"
      },
      "id": "5lI_Tubjz8Gk",
      "execution_count": 143,
      "outputs": [
        {
          "output_type": "stream",
          "name": "stdout",
          "text": [
            "Privileged Subset:\n",
            "({}, 20241.7569)\n",
            "No privileged subset detected.\n",
            "Unprivileged Subset:\n",
            "({}, 198.6638)\n",
            "No unprivileged subset detected.\n"
          ]
        }
      ]
    },
    {
      "cell_type": "code",
      "source": [
        "# 定義特徵和目標變數\n",
        "features = df_cleaned[['7速限']]\n",
        "y = df_cleaned['22受傷程度']\n",
        "\n",
        "# 設置 favorable_value 為 'high'，表示 \"無受傷\" 是有利結果\n",
        "favorable_value = 'high'\n",
        "\n",
        "# 執行 bias_scan 函數\n",
        "privileged_subset = bias_scan(data=features, observations=y, favorable_value=favorable_value,\n",
        "                              scoring='BerkJones', overpredicted=True, penalty=50,\n",
        "                              mode='continuous', alpha=0.1)  # 調整 alpha 值\n",
        "\n",
        "unprivileged_subset = bias_scan(data=features, observations=y, favorable_value=favorable_value,\n",
        "                                scoring='BerkJones', overpredicted=False, penalty=50,\n",
        "                                mode='continuous', alpha=0.1)  # 調整 alpha 值\n",
        "#BerkJones continuous\n",
        "# 檢測特權群體\n",
        "print(\"Privileged Subset:\")\n",
        "print(privileged_subset)\n",
        "if privileged_subset[0]:\n",
        "    to_choose = features[privileged_subset[0].keys()].isin(privileged_subset[0]).all(axis=1)\n",
        "    temp_df = df_cleaned.loc[to_choose].copy()\n",
        "    print(\"Our detected privileged group has a size of {}, we observe {}, but our model predicts {}\"\n",
        "          .format(len(temp_df), temp_df['22受傷程度'].mean(), y.mean()))\n",
        "else:\n",
        "    print(\"No privileged subset detected.\")\n",
        "\n",
        "# 檢查非特權群體\n",
        "print(\"Unprivileged Subset:\")\n",
        "print(unprivileged_subset)\n",
        "if unprivileged_subset[0]:\n",
        "    to_choose = features[unprivileged_subset[0].keys()].isin(unprivileged_subset[0]).all(axis=1)\n",
        "    temp_df = df_cleaned.loc[to_choose].copy()\n",
        "    print(\"Our detected unprivileged group has a size of {}, we observe {}, but our model predicts {}\"\n",
        "          .format(len(temp_df), temp_df['22受傷程度'].mean(), y.mean()))\n",
        "else:\n",
        "    print(\"No unprivileged subset detected.\")"
      ],
      "metadata": {
        "colab": {
          "base_uri": "https://localhost:8080/"
        },
        "id": "-CBw0uli0ciz",
        "outputId": "5933e7e7-3ba3-4f38-8a82-ec161627e311"
      },
      "id": "-CBw0uli0ciz",
      "execution_count": 144,
      "outputs": [
        {
          "output_type": "stream",
          "name": "stdout",
          "text": [
            "Privileged Subset:\n",
            "({}, 20241.7569)\n",
            "No privileged subset detected.\n",
            "Unprivileged Subset:\n",
            "({'7速限': [2]}, 212.3505)\n",
            "Our detected unprivileged group has a size of 129800, we observe 0.11959938366718027, but our model predicts 0.11391377219327604\n"
          ]
        }
      ]
    }
  ],
  "metadata": {
    "kernelspec": {
      "display_name": "Python 3 (ipykernel)",
      "language": "python",
      "name": "python3"
    },
    "language_info": {
      "codemirror_mode": {
        "name": "ipython",
        "version": 3
      },
      "file_extension": ".py",
      "mimetype": "text/x-python",
      "name": "python",
      "nbconvert_exporter": "python",
      "pygments_lexer": "ipython3",
      "version": "3.11.7"
    },
    "colab": {
      "provenance": []
    }
  },
  "nbformat": 4,
  "nbformat_minor": 5
}
