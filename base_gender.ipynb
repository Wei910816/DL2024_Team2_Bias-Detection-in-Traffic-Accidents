{
  "cells": [
    {
      "cell_type": "code",
      "source": [
        "!apt install aif360\n",
        "!pip install 'aif360[LFR,OptimPreproc]'"
      ],
      "metadata": {
        "colab": {
          "base_uri": "https://localhost:8080/"
        },
        "id": "S7uhPglxnodO",
        "outputId": "d0db90e8-282b-436a-fa26-43f939928f2f"
      },
      "id": "S7uhPglxnodO",
      "execution_count": 1,
      "outputs": [
        {
          "output_type": "stream",
          "name": "stdout",
          "text": [
            "Reading package lists... Done\n",
            "Building dependency tree... Done\n",
            "Reading state information... Done\n",
            "\u001b[1;31mE: \u001b[0mUnable to locate package aif360\u001b[0m\n",
            "Collecting aif360[LFR,OptimPreproc]\n",
            "  Downloading aif360-0.6.1-py3-none-any.whl (259 kB)\n",
            "\u001b[2K     \u001b[90m━━━━━━━━━━━━━━━━━━━━━━━━━━━━━━━━━━━━━━━━\u001b[0m \u001b[32m259.7/259.7 kB\u001b[0m \u001b[31m2.0 MB/s\u001b[0m eta \u001b[36m0:00:00\u001b[0m\n",
            "\u001b[?25hRequirement already satisfied: numpy>=1.16 in /usr/local/lib/python3.10/dist-packages (from aif360[LFR,OptimPreproc]) (1.25.2)\n",
            "Requirement already satisfied: scipy>=1.2.0 in /usr/local/lib/python3.10/dist-packages (from aif360[LFR,OptimPreproc]) (1.11.4)\n",
            "Requirement already satisfied: pandas>=0.24.0 in /usr/local/lib/python3.10/dist-packages (from aif360[LFR,OptimPreproc]) (2.0.3)\n",
            "Requirement already satisfied: scikit-learn>=1.0 in /usr/local/lib/python3.10/dist-packages (from aif360[LFR,OptimPreproc]) (1.2.2)\n",
            "Requirement already satisfied: matplotlib in /usr/local/lib/python3.10/dist-packages (from aif360[LFR,OptimPreproc]) (3.7.1)\n",
            "Requirement already satisfied: cvxpy>=1.0 in /usr/local/lib/python3.10/dist-packages (from aif360[LFR,OptimPreproc]) (1.3.4)\n",
            "Requirement already satisfied: torch in /usr/local/lib/python3.10/dist-packages (from aif360[LFR,OptimPreproc]) (2.3.0+cu121)\n",
            "Requirement already satisfied: osqp>=0.4.1 in /usr/local/lib/python3.10/dist-packages (from cvxpy>=1.0->aif360[LFR,OptimPreproc]) (0.6.2.post8)\n",
            "Requirement already satisfied: ecos>=2 in /usr/local/lib/python3.10/dist-packages (from cvxpy>=1.0->aif360[LFR,OptimPreproc]) (2.0.13)\n",
            "Requirement already satisfied: scs>=1.1.6 in /usr/local/lib/python3.10/dist-packages (from cvxpy>=1.0->aif360[LFR,OptimPreproc]) (3.2.4.post1)\n",
            "Requirement already satisfied: setuptools>65.5.1 in /usr/local/lib/python3.10/dist-packages (from cvxpy>=1.0->aif360[LFR,OptimPreproc]) (67.7.2)\n",
            "Requirement already satisfied: python-dateutil>=2.8.2 in /usr/local/lib/python3.10/dist-packages (from pandas>=0.24.0->aif360[LFR,OptimPreproc]) (2.8.2)\n",
            "Requirement already satisfied: pytz>=2020.1 in /usr/local/lib/python3.10/dist-packages (from pandas>=0.24.0->aif360[LFR,OptimPreproc]) (2023.4)\n",
            "Requirement already satisfied: tzdata>=2022.1 in /usr/local/lib/python3.10/dist-packages (from pandas>=0.24.0->aif360[LFR,OptimPreproc]) (2024.1)\n",
            "Requirement already satisfied: joblib>=1.1.1 in /usr/local/lib/python3.10/dist-packages (from scikit-learn>=1.0->aif360[LFR,OptimPreproc]) (1.4.2)\n",
            "Requirement already satisfied: threadpoolctl>=2.0.0 in /usr/local/lib/python3.10/dist-packages (from scikit-learn>=1.0->aif360[LFR,OptimPreproc]) (3.5.0)\n",
            "Requirement already satisfied: contourpy>=1.0.1 in /usr/local/lib/python3.10/dist-packages (from matplotlib->aif360[LFR,OptimPreproc]) (1.2.1)\n",
            "Requirement already satisfied: cycler>=0.10 in /usr/local/lib/python3.10/dist-packages (from matplotlib->aif360[LFR,OptimPreproc]) (0.12.1)\n",
            "Requirement already satisfied: fonttools>=4.22.0 in /usr/local/lib/python3.10/dist-packages (from matplotlib->aif360[LFR,OptimPreproc]) (4.51.0)\n",
            "Requirement already satisfied: kiwisolver>=1.0.1 in /usr/local/lib/python3.10/dist-packages (from matplotlib->aif360[LFR,OptimPreproc]) (1.4.5)\n",
            "Requirement already satisfied: packaging>=20.0 in /usr/local/lib/python3.10/dist-packages (from matplotlib->aif360[LFR,OptimPreproc]) (24.0)\n",
            "Requirement already satisfied: pillow>=6.2.0 in /usr/local/lib/python3.10/dist-packages (from matplotlib->aif360[LFR,OptimPreproc]) (9.4.0)\n",
            "Requirement already satisfied: pyparsing>=2.3.1 in /usr/local/lib/python3.10/dist-packages (from matplotlib->aif360[LFR,OptimPreproc]) (3.1.2)\n",
            "Requirement already satisfied: filelock in /usr/local/lib/python3.10/dist-packages (from torch->aif360[LFR,OptimPreproc]) (3.14.0)\n",
            "Requirement already satisfied: typing-extensions>=4.8.0 in /usr/local/lib/python3.10/dist-packages (from torch->aif360[LFR,OptimPreproc]) (4.11.0)\n",
            "Requirement already satisfied: sympy in /usr/local/lib/python3.10/dist-packages (from torch->aif360[LFR,OptimPreproc]) (1.12)\n",
            "Requirement already satisfied: networkx in /usr/local/lib/python3.10/dist-packages (from torch->aif360[LFR,OptimPreproc]) (3.3)\n",
            "Requirement already satisfied: jinja2 in /usr/local/lib/python3.10/dist-packages (from torch->aif360[LFR,OptimPreproc]) (3.1.4)\n",
            "Requirement already satisfied: fsspec in /usr/local/lib/python3.10/dist-packages (from torch->aif360[LFR,OptimPreproc]) (2023.6.0)\n",
            "Collecting nvidia-cuda-nvrtc-cu12==12.1.105 (from torch->aif360[LFR,OptimPreproc])\n",
            "  Using cached nvidia_cuda_nvrtc_cu12-12.1.105-py3-none-manylinux1_x86_64.whl (23.7 MB)\n",
            "Collecting nvidia-cuda-runtime-cu12==12.1.105 (from torch->aif360[LFR,OptimPreproc])\n",
            "  Using cached nvidia_cuda_runtime_cu12-12.1.105-py3-none-manylinux1_x86_64.whl (823 kB)\n",
            "Collecting nvidia-cuda-cupti-cu12==12.1.105 (from torch->aif360[LFR,OptimPreproc])\n",
            "  Using cached nvidia_cuda_cupti_cu12-12.1.105-py3-none-manylinux1_x86_64.whl (14.1 MB)\n",
            "Collecting nvidia-cudnn-cu12==8.9.2.26 (from torch->aif360[LFR,OptimPreproc])\n",
            "  Using cached nvidia_cudnn_cu12-8.9.2.26-py3-none-manylinux1_x86_64.whl (731.7 MB)\n",
            "Collecting nvidia-cublas-cu12==12.1.3.1 (from torch->aif360[LFR,OptimPreproc])\n",
            "  Using cached nvidia_cublas_cu12-12.1.3.1-py3-none-manylinux1_x86_64.whl (410.6 MB)\n",
            "Collecting nvidia-cufft-cu12==11.0.2.54 (from torch->aif360[LFR,OptimPreproc])\n",
            "  Using cached nvidia_cufft_cu12-11.0.2.54-py3-none-manylinux1_x86_64.whl (121.6 MB)\n",
            "Collecting nvidia-curand-cu12==10.3.2.106 (from torch->aif360[LFR,OptimPreproc])\n",
            "  Using cached nvidia_curand_cu12-10.3.2.106-py3-none-manylinux1_x86_64.whl (56.5 MB)\n",
            "Collecting nvidia-cusolver-cu12==11.4.5.107 (from torch->aif360[LFR,OptimPreproc])\n",
            "  Using cached nvidia_cusolver_cu12-11.4.5.107-py3-none-manylinux1_x86_64.whl (124.2 MB)\n",
            "Collecting nvidia-cusparse-cu12==12.1.0.106 (from torch->aif360[LFR,OptimPreproc])\n",
            "  Using cached nvidia_cusparse_cu12-12.1.0.106-py3-none-manylinux1_x86_64.whl (196.0 MB)\n",
            "Collecting nvidia-nccl-cu12==2.20.5 (from torch->aif360[LFR,OptimPreproc])\n",
            "  Using cached nvidia_nccl_cu12-2.20.5-py3-none-manylinux2014_x86_64.whl (176.2 MB)\n",
            "Collecting nvidia-nvtx-cu12==12.1.105 (from torch->aif360[LFR,OptimPreproc])\n",
            "  Using cached nvidia_nvtx_cu12-12.1.105-py3-none-manylinux1_x86_64.whl (99 kB)\n",
            "Requirement already satisfied: triton==2.3.0 in /usr/local/lib/python3.10/dist-packages (from torch->aif360[LFR,OptimPreproc]) (2.3.0)\n",
            "Collecting nvidia-nvjitlink-cu12 (from nvidia-cusolver-cu12==11.4.5.107->torch->aif360[LFR,OptimPreproc])\n",
            "  Downloading nvidia_nvjitlink_cu12-12.5.40-py3-none-manylinux2014_x86_64.whl (21.3 MB)\n",
            "\u001b[2K     \u001b[90m━━━━━━━━━━━━━━━━━━━━━━━━━━━━━━━━━━━━━━━━\u001b[0m \u001b[32m21.3/21.3 MB\u001b[0m \u001b[31m55.8 MB/s\u001b[0m eta \u001b[36m0:00:00\u001b[0m\n",
            "\u001b[?25hRequirement already satisfied: qdldl in /usr/local/lib/python3.10/dist-packages (from osqp>=0.4.1->cvxpy>=1.0->aif360[LFR,OptimPreproc]) (0.1.7.post2)\n",
            "Requirement already satisfied: six>=1.5 in /usr/local/lib/python3.10/dist-packages (from python-dateutil>=2.8.2->pandas>=0.24.0->aif360[LFR,OptimPreproc]) (1.16.0)\n",
            "Requirement already satisfied: MarkupSafe>=2.0 in /usr/local/lib/python3.10/dist-packages (from jinja2->torch->aif360[LFR,OptimPreproc]) (2.1.5)\n",
            "Requirement already satisfied: mpmath>=0.19 in /usr/local/lib/python3.10/dist-packages (from sympy->torch->aif360[LFR,OptimPreproc]) (1.3.0)\n",
            "Installing collected packages: nvidia-nvtx-cu12, nvidia-nvjitlink-cu12, nvidia-nccl-cu12, nvidia-curand-cu12, nvidia-cufft-cu12, nvidia-cuda-runtime-cu12, nvidia-cuda-nvrtc-cu12, nvidia-cuda-cupti-cu12, nvidia-cublas-cu12, nvidia-cusparse-cu12, nvidia-cudnn-cu12, nvidia-cusolver-cu12, aif360\n",
            "Successfully installed aif360-0.6.1 nvidia-cublas-cu12-12.1.3.1 nvidia-cuda-cupti-cu12-12.1.105 nvidia-cuda-nvrtc-cu12-12.1.105 nvidia-cuda-runtime-cu12-12.1.105 nvidia-cudnn-cu12-8.9.2.26 nvidia-cufft-cu12-11.0.2.54 nvidia-curand-cu12-10.3.2.106 nvidia-cusolver-cu12-11.4.5.107 nvidia-cusparse-cu12-12.1.0.106 nvidia-nccl-cu12-2.20.5 nvidia-nvjitlink-cu12-12.5.40 nvidia-nvtx-cu12-12.1.105\n"
          ]
        }
      ]
    },
    {
      "cell_type": "code",
      "execution_count": 4,
      "id": "7cac0b6a-fcfb-489d-9d22-685e45ad6387",
      "metadata": {
        "id": "7cac0b6a-fcfb-489d-9d22-685e45ad6387"
      },
      "outputs": [],
      "source": [
        "import pandas as pd\n",
        "from aif360.detectors.mdss_detector import bias_scan"
      ]
    },
    {
      "cell_type": "code",
      "execution_count": 5,
      "id": "804093d9-b4c2-40c5-a7f1-ef08dbeb06f2",
      "metadata": {
        "colab": {
          "base_uri": "https://localhost:8080/"
        },
        "id": "804093d9-b4c2-40c5-a7f1-ef08dbeb06f2",
        "outputId": "c2f2ac33-6bd2-46a6-e703-b804972b61b5"
      },
      "outputs": [
        {
          "output_type": "stream",
          "name": "stdout",
          "text": [
            "Combined DataFrame:\n",
            "  當事人序        1 Unnamed: 2 Unnamed: 3  編號  年度 汽車駕籍地 機車駕籍地  戶籍地 發生時間  ...   X  \\\n",
            "0  NaN      NaN        NaN        NaN NaN NaN   NaN   NaN  NaN  NaN  ... NaN   \n",
            "1  列標籤  計數 - 案號  加總 - 死亡人數  加總 - 受傷人數 NaN NaN   NaN   NaN  NaN  NaN  ... NaN   \n",
            "2    1       88         89         36 NaN NaN   NaN   NaN  NaN  NaN  ... NaN   \n",
            "3    2    22554          0      29313 NaN NaN   NaN   NaN  NaN  NaN  ... NaN   \n",
            "4    3    16304          0          0 NaN NaN   NaN   NaN  NaN  NaN  ... NaN   \n",
            "\n",
            "    Y   路口   路段  路段2    季  上半年 PoliceStation 肇事原因  Delivery_Type  \n",
            "0 NaN  NaN  NaN  NaN  NaN  NaN           NaN  NaN            NaN  \n",
            "1 NaN  NaN  NaN  NaN  NaN  NaN           NaN  NaN            NaN  \n",
            "2 NaN  NaN  NaN  NaN  NaN  NaN           NaN  NaN            NaN  \n",
            "3 NaN  NaN  NaN  NaN  NaN  NaN           NaN  NaN            NaN  \n",
            "4 NaN  NaN  NaN  NaN  NaN  NaN           NaN  NaN            NaN  \n",
            "\n",
            "[5 rows x 108 columns]\n"
          ]
        }
      ],
      "source": [
        "# 定義 Excel 檔案的路徑\n",
        "#file_paths = [\n",
        "#    '105年A1-A4所有當事人.xlsx',\n",
        "#    '106年A1-A4所有當事人.xlsx',\n",
        "#    '107年A1-A4所有當事人(新增戶籍地).xlsx',\n",
        "#    '108年A1-A4所有當事人(新增戶籍地).xlsx',\n",
        "#    '109年A1-A4所有當事人(新增戶籍地).xlsx'\n",
        "#]\n",
        "\n",
        "selected_columns = ['性別', '年齡', '車種', '15事故類型及型態', '22受傷程度', 'Delivery_Type']\n",
        "\n",
        "# 初始化一個空的 DataFrame 用於存儲合併後的數據\n",
        "df_combined = pd.DataFrame()\n",
        "\n",
        "# 讀取每個 Excel 文件並合併到一個 DataFrame 中\n",
        "#for file_path in file_paths:\n",
        "#    df = pd.read_excel(file_path, engine='openpyxl')\n",
        "#    df_combined = pd.concat([df_combined, df], ignore_index=True)\n",
        "\n",
        "df = pd.read_excel('105年A1-A4所有當事人.xlsx', engine='openpyxl')\n",
        "df_combined = pd.concat([df_combined, df], ignore_index=True)\n",
        "\n",
        "df = pd.read_excel('106年A1-A4所有當事人.xlsx', engine='openpyxl')\n",
        "df_combined = pd.concat([df_combined, df], ignore_index=True)\n",
        "\n",
        "df = pd.read_excel('107年A1-A4所有當事人(新增戶籍地).xlsx', engine='openpyxl')\n",
        "df_combined = pd.concat([df_combined, df], ignore_index=True)\n",
        "\n",
        "df = pd.read_excel('108年A1-A4所有當事人(新增戶籍地).xlsx', engine='openpyxl')\n",
        "df_combined = pd.concat([df_combined, df], ignore_index=True)\n",
        "\n",
        "df = pd.read_excel('109年A1-A4所有當事人(新增戶籍地).xlsx', engine='openpyxl')\n",
        "df_combined = pd.concat([df_combined, df], ignore_index=True)\n",
        "# 檢查合併後的數據\n",
        "print(\"Combined DataFrame:\")\n",
        "print(df_combined.head())\n"
      ]
    },
    {
      "cell_type": "code",
      "execution_count": null,
      "id": "9e965fce-2cdc-440e-9b22-38e5f31cf409",
      "metadata": {
        "id": "9e965fce-2cdc-440e-9b22-38e5f31cf409",
        "outputId": "9a50b13f-72a1-49d8-9ce0-11fc4a7a8b6a"
      },
      "outputs": [
        {
          "name": "stdout",
          "output_type": "stream",
          "text": [
            "   編號   年度 汽車駕籍地 機車駕籍地     戶籍地                     發生時間  處理別  \\\n",
            "0   1  108   澎湖縣   澎湖縣    非臺北市  2019-01-01 00:10:00.000    4   \n",
            "1   2  108     0     0    非臺北市  2019-01-01 00:10:00.000    4   \n",
            "2   3  108   新北市   新北市    非臺北市  2019-01-01 00:26:00.000    3   \n",
            "3   4  108   臺北市   臺北市  臺北市信義區  2019-01-01 00:26:00.000    3   \n",
            "4   5  108     0   桃園市    非臺北市  2019-01-01 00:27:00.000    4   \n",
            "\n",
            "               肇事地點         案號  死亡人數  ...           X          Y  \\\n",
            "0  大安區忠孝東路4段216巷31號  C8A040621     0  ...  121.552803  25.039609   \n",
            "1  大安區忠孝東路4段216巷31號  C8A040621     0  ...  121.552803  25.039609   \n",
            "2      文山區木新路3段302號  CEA008897     0  ...  121.557412  24.981028   \n",
            "3      文山區木新路3段302號  CEA008897     0  ...  121.557412  24.981028   \n",
            "4     大安區和平東路2段289號  C8A034640     0  ...  121.544660  25.024942   \n",
            "\n",
            "                                  路口                         路段 路段2    季  上半年  \\\n",
            "0  忠孝東路                            口  忠孝東路            4       段   段  第1季  上半年   \n",
            "1  忠孝東路                            口  忠孝東路            4       段   段  第1季  上半年   \n",
            "2  木新路                             口  木新路             3       段   段  第1季  上半年   \n",
            "3  木新路                             口  木新路             3       段   段  第1季  上半年   \n",
            "4  和平東路                            口  和平東路            2       段   段  第1季  上半年   \n",
            "\n",
            "  PoliceStation Delivery_Type         肇事原因  \n",
            "0          04C8           NaN          NaN  \n",
            "1          04C8           NaN          NaN  \n",
            "2          02CE           NaN      未注意車前狀況  \n",
            "3          02CE           NaN  (車)尚未發現肇事因素  \n",
            "4          07C8           NaN          NaN  \n",
            "\n",
            "[5 rows x 105 columns]\n"
          ]
        }
      ],
      "source": [
        "# 讀取資料\n",
        "#file_path = '108年A1-A4所有當事人(新增戶籍地).xlsx'\n",
        "#df = pd.read_excel(file_path, header=0, engine='openpyxl')\n",
        "#print(df.head())"
      ]
    },
    {
      "cell_type": "code",
      "execution_count": 19,
      "id": "f9e3f239-447c-47d9-9996-29359a26b3a8",
      "metadata": {
        "id": "f9e3f239-447c-47d9-9996-29359a26b3a8",
        "outputId": "890fcc9e-5e0d-4903-800b-b714e3ab19bf",
        "colab": {
          "base_uri": "https://localhost:8080/"
        }
      },
      "outputs": [
        {
          "output_type": "stream",
          "name": "stdout",
          "text": [
            "After replacing '性別':\n",
            "1     1.0\n",
            "2     1.0\n",
            "3     1.0\n",
            "5     1.0\n",
            "6     1.0\n",
            "7     1.0\n",
            "8     1.0\n",
            "9     2.0\n",
            "10    1.0\n",
            "11    2.0\n",
            "Name: 性別, dtype: float64\n",
            "After dropping NA '性別':\n",
            "     性別    年齡   車種  15事故類型及型態  22受傷程度  Delivery_Type\n",
            "1   1.0  55.0  H03        NaN     NaN            0.0\n",
            "2   1.0  42.0  B12        NaN     NaN            0.0\n",
            "3   1.0  40.0  B01        NaN     NaN            0.0\n",
            "5   1.0  40.0  B03        NaN     NaN            0.0\n",
            "6   1.0  20.0  B03        NaN     NaN            0.0\n",
            "7   1.0  30.0  B03        NaN     NaN            0.0\n",
            "8   1.0  18.0  C03       17.0     2.0            0.0\n",
            "9   2.0  53.0  C03       17.0     2.0            0.0\n",
            "10  1.0  20.0  B03       12.0     2.0            0.0\n",
            "11  2.0  48.0  B03        NaN     NaN            0.0\n"
          ]
        }
      ],
      "source": [
        "# 選擇指定欄位\n",
        "df_cleaned = df[['性別', '年齡', '車種', '15事故類型及型態', '22受傷程度', 'Delivery_Type']].copy()\n",
        "\n",
        "# 進行欄位轉換和清理\n",
        "# '性別' 欄位：男性設為1，女性設為2，移除空白欄位\n",
        "df_cleaned = df_cleaned[df_cleaned['性別'].isin([1.0, 2.0])]\n",
        "print(\"After replacing '性別':\")\n",
        "print(df_cleaned['性別'].head(10))\n",
        "\n",
        "df_cleaned = df_cleaned.dropna(subset=['性別'])\n",
        "print(\"After dropping NA '性別':\")\n",
        "print(df_cleaned.head(10))"
      ]
    },
    {
      "cell_type": "code",
      "execution_count": 20,
      "id": "f9293cb8-ba77-48f5-80fd-55791d633438",
      "metadata": {
        "id": "f9293cb8-ba77-48f5-80fd-55791d633438",
        "outputId": "77921982-6878-48d7-efa1-742b06104402",
        "colab": {
          "base_uri": "https://localhost:8080/"
        }
      },
      "outputs": [
        {
          "output_type": "stream",
          "name": "stdout",
          "text": [
            "After binning '年齡':\n",
            "1    2\n",
            "2    2\n",
            "3    2\n",
            "5    2\n",
            "6    2\n",
            "Name: 年齡, dtype: category\n",
            "Categories (3, int64): [1 < 2 < 3]\n",
            "After dropping NA '年齡':\n",
            "    性別 年齡   車種  15事故類型及型態  22受傷程度  Delivery_Type\n",
            "1  1.0  2  H03        NaN     NaN            0.0\n",
            "2  1.0  2  B12        NaN     NaN            0.0\n",
            "3  1.0  2  B01        NaN     NaN            0.0\n",
            "5  1.0  2  B03        NaN     NaN            0.0\n",
            "6  1.0  2  B03        NaN     NaN            0.0\n"
          ]
        }
      ],
      "source": [
        "# '年齡' 欄位：18歲以下設為1，19至64歲設為2，65歲以上設為3，移除空白欄位\n",
        "df_cleaned['年齡'] = pd.cut(df_cleaned['年齡'].astype(float), bins=[0, 18, 64, float('inf')], labels=[1, 2, 3], right=False)\n",
        "print(\"After binning '年齡':\")\n",
        "print(df_cleaned['年齡'].head())\n",
        "\n",
        "df_cleaned = df_cleaned.dropna(subset=['年齡'])\n",
        "print(\"After dropping NA '年齡':\")\n",
        "print(df_cleaned.head())"
      ]
    },
    {
      "cell_type": "code",
      "execution_count": 21,
      "id": "30496acc-787b-4179-9a10-356ba508d69a",
      "metadata": {
        "id": "30496acc-787b-4179-9a10-356ba508d69a",
        "outputId": "705d6733-2518-436e-c21b-fab8910468cf",
        "colab": {
          "base_uri": "https://localhost:8080/"
        }
      },
      "outputs": [
        {
          "output_type": "stream",
          "name": "stdout",
          "text": [
            "After replacing '車種':\n",
            "1    0\n",
            "2    0\n",
            "3    0\n",
            "5    1\n",
            "6    1\n",
            "Name: 車種, dtype: int64\n",
            "After dropping NA '車種':\n",
            "    性別 年齡  車種  15事故類型及型態  22受傷程度  Delivery_Type\n",
            "1  1.0  2   0        NaN     NaN            0.0\n",
            "2  1.0  2   0        NaN     NaN            0.0\n",
            "3  1.0  2   0        NaN     NaN            0.0\n",
            "5  1.0  2   1        NaN     NaN            0.0\n",
            "6  1.0  2   1        NaN     NaN            0.0\n"
          ]
        }
      ],
      "source": [
        "# '車種' 欄位：B03設為1，C03設為2，其他全部設為0\n",
        "df_cleaned['車種'] = df_cleaned['車種'].apply(lambda x: 1 if x == 'B03' else (2 if x == 'C03' else 0))\n",
        "print(\"After replacing '車種':\")\n",
        "print(df_cleaned['車種'].head())\n",
        "\n",
        "df_cleaned = df_cleaned.dropna(subset=['車種'])\n",
        "print(\"After dropping NA '車種':\")\n",
        "print(df_cleaned.head())"
      ]
    },
    {
      "cell_type": "code",
      "source": [
        "# 'Delivery_Type' 欄位：空白欄位設為0，非空白欄位設為1\n",
        "df_cleaned['Delivery_Type'] = df_cleaned['Delivery_Type'].notna().astype(int)\n",
        "print(\"After processing 'Delivery_Type':\")\n",
        "print(df_cleaned['Delivery_Type'].head())\n",
        "\n",
        "df_cleaned = df_cleaned.dropna(subset=['Delivery_Type'])\n",
        "print(\"After dropping NA 'Delivery_Type':\")\n",
        "print(df_cleaned.head())"
      ],
      "metadata": {
        "id": "Yyhdweq7Ddm9",
        "colab": {
          "base_uri": "https://localhost:8080/"
        },
        "outputId": "a5b40c92-1b88-46eb-b298-20d16f6d3055"
      },
      "id": "Yyhdweq7Ddm9",
      "execution_count": 22,
      "outputs": [
        {
          "output_type": "stream",
          "name": "stdout",
          "text": [
            "After processing 'Delivery_Type':\n",
            "1    1\n",
            "2    1\n",
            "3    1\n",
            "5    1\n",
            "6    1\n",
            "Name: Delivery_Type, dtype: int64\n",
            "After dropping NA 'Delivery_Type':\n",
            "    性別 年齡  車種  15事故類型及型態  22受傷程度  Delivery_Type\n",
            "1  1.0  2   0        NaN     NaN              1\n",
            "2  1.0  2   0        NaN     NaN              1\n",
            "3  1.0  2   0        NaN     NaN              1\n",
            "5  1.0  2   1        NaN     NaN              1\n",
            "6  1.0  2   1        NaN     NaN              1\n"
          ]
        }
      ]
    },
    {
      "cell_type": "code",
      "execution_count": 23,
      "id": "482194ca-ca4d-4bfb-a101-76f8a587bd62",
      "metadata": {
        "id": "482194ca-ca4d-4bfb-a101-76f8a587bd62",
        "outputId": "921443ff-4ae3-41c8-b4e7-ec473850615a",
        "colab": {
          "base_uri": "https://localhost:8080/"
        }
      },
      "outputs": [
        {
          "output_type": "stream",
          "name": "stdout",
          "text": [
            "After processing '15事故類型及型態':\n",
            "1    0\n",
            "2    0\n",
            "3    0\n",
            "5    0\n",
            "6    0\n",
            "Name: 15事故類型及型態, dtype: int64\n",
            "After dropping NA '15事故類型及型態':\n",
            "    性別 年齡  車種  15事故類型及型態  22受傷程度  Delivery_Type\n",
            "1  1.0  2   0          0     NaN              1\n",
            "2  1.0  2   0          0     NaN              1\n",
            "3  1.0  2   0          0     NaN              1\n",
            "5  1.0  2   1          0     NaN              1\n",
            "6  1.0  2   1          0     NaN              1\n"
          ]
        }
      ],
      "source": [
        "# '15事故類型及型態' 欄位：空白欄位設為0，非空白欄位設為1\n",
        "df_cleaned['15事故類型及型態'] = df_cleaned['15事故類型及型態'].notna().astype(int)\n",
        "print(\"After processing '15事故類型及型態':\")\n",
        "print(df_cleaned['15事故類型及型態'].head())\n",
        "\n",
        "df_cleaned = df_cleaned.dropna(subset=['15事故類型及型態'])\n",
        "print(\"After dropping NA '15事故類型及型態':\")\n",
        "print(df_cleaned.head())"
      ]
    },
    {
      "cell_type": "code",
      "execution_count": 24,
      "id": "f22e54fc-cfcf-478b-bcf0-5cd64da7b3ab",
      "metadata": {
        "id": "f22e54fc-cfcf-478b-bcf0-5cd64da7b3ab",
        "outputId": "262fc126-36d6-41bd-8d9f-cc2057c6c282",
        "colab": {
          "base_uri": "https://localhost:8080/"
        }
      },
      "outputs": [
        {
          "output_type": "stream",
          "name": "stdout",
          "text": [
            "After processing '22受傷程度':\n",
            "1    0\n",
            "2    0\n",
            "3    0\n",
            "5    0\n",
            "6    0\n",
            "Name: 22受傷程度, dtype: int64\n",
            "After dropping NA '22受傷程度':\n",
            "    性別 年齡  車種  15事故類型及型態  22受傷程度  Delivery_Type\n",
            "1  1.0  2   0          0       0              1\n",
            "2  1.0  2   0          0       0              1\n",
            "3  1.0  2   0          0       0              1\n",
            "5  1.0  2   1          0       0              1\n",
            "6  1.0  2   1          0       0              1\n"
          ]
        }
      ],
      "source": [
        "# '22受傷程度' 欄位：3設為1(無受傷)，其他全部設為0\n",
        "df_cleaned['22受傷程度'] = (df_cleaned['22受傷程度'] == 3).astype(int)\n",
        "print(\"After processing '22受傷程度':\")\n",
        "print(df_cleaned['22受傷程度'].head())\n",
        "\n",
        "df_cleaned = df_cleaned.dropna(subset=['22受傷程度'])\n",
        "print(\"After dropping NA '22受傷程度':\")\n",
        "print(df_cleaned.head())"
      ]
    },
    {
      "cell_type": "code",
      "execution_count": 25,
      "id": "aa1c24ca-5266-4034-9076-b30738283a86",
      "metadata": {
        "id": "aa1c24ca-5266-4034-9076-b30738283a86",
        "outputId": "ec6cc9ac-487a-4f17-cecd-8b936d6a8426",
        "colab": {
          "base_uri": "https://localhost:8080/"
        }
      },
      "outputs": [
        {
          "output_type": "stream",
          "name": "stdout",
          "text": [
            "Cleaned DataFrame:\n",
            "    性別 年齡  車種  15事故類型及型態  22受傷程度  Delivery_Type\n",
            "1  1.0  2   0          0       0              1\n",
            "2  1.0  2   0          0       0              1\n",
            "3  1.0  2   0          0       0              1\n",
            "5  1.0  2   1          0       0              1\n",
            "6  1.0  2   1          0       0              1\n"
          ]
        }
      ],
      "source": [
        "# 檢查清理後的數據\n",
        "print(\"Cleaned DataFrame:\")\n",
        "print(df_cleaned.head())\n"
      ]
    },
    {
      "cell_type": "code",
      "execution_count": 27,
      "id": "cfe9d845-1f5f-43c6-aee8-c0cf920ec7e8",
      "metadata": {
        "id": "cfe9d845-1f5f-43c6-aee8-c0cf920ec7e8",
        "outputId": "10fecb8f-d6a0-4773-dc09-961bb43b64b4",
        "colab": {
          "base_uri": "https://localhost:8080/"
        }
      },
      "outputs": [
        {
          "output_type": "stream",
          "name": "stdout",
          "text": [
            "Features:\n",
            "    22受傷程度 年齡  車種  15事故類型及型態  Delivery_Type\n",
            "1        0  2   0          0              1\n",
            "2        0  2   0          0              1\n",
            "3        0  2   0          0              1\n",
            "5        0  2   1          0              1\n",
            "6        0  2   1          0              1\n",
            "7        0  2   1          0              1\n",
            "8        0  2   2          1              1\n",
            "9        0  2   2          1              1\n",
            "10       0  2   1          1              1\n",
            "Target:\n",
            "1     1.0\n",
            "2     1.0\n",
            "3     1.0\n",
            "5     1.0\n",
            "6     1.0\n",
            "7     1.0\n",
            "8     1.0\n",
            "9     2.0\n",
            "10    1.0\n",
            "Name: 性別, dtype: float64\n"
          ]
        }
      ],
      "source": [
        "# 定義特徵和目標變數\n",
        "features = df_cleaned[['22受傷程度', '年齡', '車種', '15事故類型及型態', 'Delivery_Type']]\n",
        "y = df_cleaned['性別']\n",
        "\n",
        "# 檢查特徵和目標變數\n",
        "print(\"Features:\")\n",
        "print(features.head(9))\n",
        "print(\"Target:\")\n",
        "print(y.head(9))"
      ]
    },
    {
      "cell_type": "code",
      "execution_count": 48,
      "id": "e225916e-1d01-41f7-acbf-cc9bb52065cb",
      "metadata": {
        "id": "e225916e-1d01-41f7-acbf-cc9bb52065cb"
      },
      "outputs": [],
      "source": [
        "# 定義特徵和目標變數\n",
        "features = df_cleaned[['22受傷程度', '年齡', '車種', '15事故類型及型態', 'Delivery_Type']]\n",
        "y = df_cleaned['性別']\n",
        "\n",
        "# 設置 favorable_value 為 'low'，表示 \"男生\" 是有利結果\n",
        "favorable_value = 'low'\n",
        "\n",
        "# 執行 bias_scan 函數\n",
        "privileged_subset = bias_scan(data=features, observations=y, favorable_value=favorable_value,\n",
        "                              scoring='Gaussian', overpredicted=True, penalty=50,\n",
        "                              mode='continuous', alpha=0.1)  # 調整 alpha 值\n",
        "\n",
        "unprivileged_subset = bias_scan(data=features, observations=y, favorable_value=favorable_value,\n",
        "                                scoring='Gaussian', overpredicted=False, penalty=50,\n",
        "                                mode='continuous', alpha=0.1)  # 調整 alpha 值\n",
        "#BerkJones continuous"
      ]
    },
    {
      "cell_type": "code",
      "execution_count": 49,
      "id": "6b445a2a-3dee-4635-afce-1d98d1a1cb16",
      "metadata": {
        "id": "6b445a2a-3dee-4635-afce-1d98d1a1cb16",
        "outputId": "8c4967ee-7a5b-44ad-cf6d-1ecd09c7687f",
        "colab": {
          "base_uri": "https://localhost:8080/"
        }
      },
      "outputs": [
        {
          "output_type": "stream",
          "name": "stdout",
          "text": [
            "Privileged Subset:\n",
            "({'15事故類型及型態': [1], '22受傷程度': [0]}, 3.0768107014909024e+37)\n",
            "Our detected privileged group has a size of 35185, we observe 1.3888873099332102 as the mean gender, but our model predicts 1.2403717397821525\n",
            "Unprivileged Subset:\n",
            "({'年齡': [2, 3], '車種': [0, 1], '15事故類型及型態': [0]}, 2.624004435778143e+37)\n",
            "Our detected unprivileged group has a size of 110794, we observe 1.1968157120421683 as the mean gender, but our model predicts 1.2403717397821525\n"
          ]
        }
      ],
      "source": [
        "# 檢測特權群體\n",
        "print(\"Privileged Subset:\")\n",
        "print(privileged_subset)\n",
        "if privileged_subset[0]:\n",
        "    to_choose = features[privileged_subset[0].keys()].isin(privileged_subset[0]).all(axis=1)\n",
        "    temp_df = df_cleaned.loc[to_choose].copy()\n",
        "    print(\"Our detected privileged group has a size of {}, we observe {} as the mean gender, but our model predicts {}\"\n",
        "          .format(len(temp_df), temp_df['性別'].mean(), y.mean()))\n",
        "else:\n",
        "    print(\"No privileged subset detected.\")\n",
        "\n",
        "# 檢查非特權群體\n",
        "print(\"Unprivileged Subset:\")\n",
        "print(unprivileged_subset)\n",
        "if unprivileged_subset[0]:\n",
        "    to_choose = features[unprivileged_subset[0].keys()].isin(unprivileged_subset[0]).all(axis=1)\n",
        "    temp_df = df_cleaned.loc[to_choose].copy()\n",
        "    print(\"Our detected unprivileged group has a size of {}, we observe {} as the mean gender, but our model predicts {}\"\n",
        "          .format(len(temp_df), temp_df['性別'].mean(), y.mean()))\n",
        "else:\n",
        "    print(\"No unprivileged subset detected.\")"
      ]
    },
    {
      "cell_type": "markdown",
      "source": [
        "scoring='Gaussian'\n",
        "Privileged Subset:\n",
        "({'15事故類型及型態': [1], '22受傷程度': [0]}, 3.0768107014909024e+37)\n",
        "Our detected privileged group has a size of 35185, we observe 1.3888873099332102 as the mean gender, but our model predicts 1.2403717397821525\n",
        "Unprivileged Subset:\n",
        "({'年齡': [2, 3], '車種': [0, 1], '15事故類型及型態': [0]}, 2.624004435778143e+37)\n",
        "Our detected unprivileged group has a size of 110794, we observe 1.1968157120421683 as the mean gender, but our model predicts 1.2403717397821525\n",
        "\n",
        "scoring='BerkJones'\n",
        "Privileged Subset:\n",
        "({}, 16412.1132)\n",
        "No privileged subset detected.\n",
        "Unprivileged Subset:\n",
        "({}, 21086.8536)\n",
        "No unprivileged subset detected\n",
        "\n",
        "scoring='Poisson'\n",
        "error!\n",
        "\n",
        "scoring='Bernoulli'\n",
        "error!\n",
        "\n",
        "scoring='ScoringFunction'\n",
        "error!"
      ],
      "metadata": {
        "id": "2djILphEnkqF"
      },
      "id": "2djILphEnkqF"
    },
    {
      "cell_type": "markdown",
      "id": "bb5c7f3d-9276-4ee9-ad3c-fd2734ebb2bd",
      "metadata": {
        "id": "bb5c7f3d-9276-4ee9-ad3c-fd2734ebb2bd"
      },
      "source": [
        "/*\n",
        "找到了一個在預測受傷程度上被低估的群體，這個群體的特徵如下：\n",
        "車種：B03、其他\n",
        "年齡：19 至 64 歲（2）和 65 歲以上（3）\n",
        "性別：男性（1.0）\n",
        "事故類型：事故類型為 1(有發生事故)\n",
        "這個群體的大小是 18288 人。\n",
        "\n",
        "具體偏見：\n",
        "\n",
        "實際情況：這個群體中有 78.52% 的人實際上受傷了。\n",
        "模型預測：模型卻只預測有 10.23% 的人會受傷。\n",
        "*/"
      ]
    },
    {
      "cell_type": "code",
      "execution_count": null,
      "id": "8e0fd3cc-1789-44f8-bce8-14ae96de6e55",
      "metadata": {
        "id": "8e0fd3cc-1789-44f8-bce8-14ae96de6e55"
      },
      "outputs": [],
      "source": []
    }
  ],
  "metadata": {
    "kernelspec": {
      "display_name": "Python 3 (ipykernel)",
      "language": "python",
      "name": "python3"
    },
    "language_info": {
      "codemirror_mode": {
        "name": "ipython",
        "version": 3
      },
      "file_extension": ".py",
      "mimetype": "text/x-python",
      "name": "python",
      "nbconvert_exporter": "python",
      "pygments_lexer": "ipython3",
      "version": "3.11.7"
    },
    "colab": {
      "provenance": []
    }
  },
  "nbformat": 4,
  "nbformat_minor": 5
}