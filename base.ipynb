{
 "cells": [
  {
   "cell_type": "code",
   "execution_count": 1,
   "id": "7cac0b6a-fcfb-489d-9d22-685e45ad6387",
   "metadata": {},
   "outputs": [],
   "source": [
    "import pandas as pd\n",
    "from aif360.detectors.mdss_detector import bias_scan"
   ]
  },
  {
   "cell_type": "code",
   "execution_count": 2,
   "id": "804093d9-b4c2-40c5-a7f1-ef08dbeb06f2",
   "metadata": {},
   "outputs": [
    {
     "name": "stdout",
     "output_type": "stream",
     "text": [
      "Combined DataFrame:\n",
      "  當事人序        1 Unnamed: 2 Unnamed: 3  編號  年度 汽車駕籍地 機車駕籍地  戶籍地 發生時間  ...   X  \\\n",
      "0  NaN      NaN        NaN        NaN NaN NaN   NaN   NaN  NaN  NaN  ... NaN   \n",
      "1  列標籤  計數 - 案號  加總 - 死亡人數  加總 - 受傷人數 NaN NaN   NaN   NaN  NaN  NaN  ... NaN   \n",
      "2    1       88         89         36 NaN NaN   NaN   NaN  NaN  NaN  ... NaN   \n",
      "3    2    22554          0      29313 NaN NaN   NaN   NaN  NaN  NaN  ... NaN   \n",
      "4    3    16304          0          0 NaN NaN   NaN   NaN  NaN  NaN  ... NaN   \n",
      "\n",
      "    Y   路口   路段  路段2    季  上半年 PoliceStation 肇事原因  Delivery_Type  \n",
      "0 NaN  NaN  NaN  NaN  NaN  NaN           NaN  NaN            NaN  \n",
      "1 NaN  NaN  NaN  NaN  NaN  NaN           NaN  NaN            NaN  \n",
      "2 NaN  NaN  NaN  NaN  NaN  NaN           NaN  NaN            NaN  \n",
      "3 NaN  NaN  NaN  NaN  NaN  NaN           NaN  NaN            NaN  \n",
      "4 NaN  NaN  NaN  NaN  NaN  NaN           NaN  NaN            NaN  \n",
      "\n",
      "[5 rows x 108 columns]\n"
     ]
    }
   ],
   "source": [
    "# 定義 Excel 檔案的路徑\n",
    "file_paths = [\n",
    "    '105年A1-A4所有當事人.xlsx',\n",
    "    '106年A1-A4所有當事人.xlsx',\n",
    "    '107年A1-A4所有當事人(新增戶籍地).xlsx',\n",
    "    '108年A1-A4所有當事人(新增戶籍地).xlsx',\n",
    "    '109年A1-A4所有當事人(新增戶籍地).xlsx'\n",
    "]\n",
    "\n",
    "selected_columns = ['性別', '年齡', '車種', '15事故類型及型態', '22受傷程度']\n",
    "\n",
    "# 初始化一個空的 DataFrame 用於存儲合併後的數據\n",
    "df_combined = pd.DataFrame()\n",
    "\n",
    "# 讀取每個 Excel 文件並合併到一個 DataFrame 中\n",
    "for file_path in file_paths:\n",
    "    df = pd.read_excel(file_path, engine='openpyxl')\n",
    "    df_combined = pd.concat([df_combined, df], ignore_index=True)\n",
    "\n",
    "# 檢查合併後的數據\n",
    "print(\"Combined DataFrame:\")\n",
    "print(df_combined.head())\n"
   ]
  },
  {
   "cell_type": "code",
   "execution_count": 4,
   "id": "9e965fce-2cdc-440e-9b22-38e5f31cf409",
   "metadata": {},
   "outputs": [
    {
     "name": "stdout",
     "output_type": "stream",
     "text": [
      "   編號   年度 汽車駕籍地 機車駕籍地     戶籍地                     發生時間  處理別  \\\n",
      "0   1  108   澎湖縣   澎湖縣    非臺北市  2019-01-01 00:10:00.000    4   \n",
      "1   2  108     0     0    非臺北市  2019-01-01 00:10:00.000    4   \n",
      "2   3  108   新北市   新北市    非臺北市  2019-01-01 00:26:00.000    3   \n",
      "3   4  108   臺北市   臺北市  臺北市信義區  2019-01-01 00:26:00.000    3   \n",
      "4   5  108     0   桃園市    非臺北市  2019-01-01 00:27:00.000    4   \n",
      "\n",
      "               肇事地點         案號  死亡人數  ...           X          Y  \\\n",
      "0  大安區忠孝東路4段216巷31號  C8A040621     0  ...  121.552803  25.039609   \n",
      "1  大安區忠孝東路4段216巷31號  C8A040621     0  ...  121.552803  25.039609   \n",
      "2      文山區木新路3段302號  CEA008897     0  ...  121.557412  24.981028   \n",
      "3      文山區木新路3段302號  CEA008897     0  ...  121.557412  24.981028   \n",
      "4     大安區和平東路2段289號  C8A034640     0  ...  121.544660  25.024942   \n",
      "\n",
      "                                  路口                         路段 路段2    季  上半年  \\\n",
      "0  忠孝東路                            口  忠孝東路            4       段   段  第1季  上半年   \n",
      "1  忠孝東路                            口  忠孝東路            4       段   段  第1季  上半年   \n",
      "2  木新路                             口  木新路             3       段   段  第1季  上半年   \n",
      "3  木新路                             口  木新路             3       段   段  第1季  上半年   \n",
      "4  和平東路                            口  和平東路            2       段   段  第1季  上半年   \n",
      "\n",
      "  PoliceStation Delivery_Type         肇事原因  \n",
      "0          04C8           NaN          NaN  \n",
      "1          04C8           NaN          NaN  \n",
      "2          02CE           NaN      未注意車前狀況  \n",
      "3          02CE           NaN  (車)尚未發現肇事因素  \n",
      "4          07C8           NaN          NaN  \n",
      "\n",
      "[5 rows x 105 columns]\n"
     ]
    }
   ],
   "source": [
    "# 讀取資料\n",
    "#file_path = '108年A1-A4所有當事人(新增戶籍地).xlsx'\n",
    "#df = pd.read_excel(file_path, header=0, engine='openpyxl')\n",
    "#print(df.head())"
   ]
  },
  {
   "cell_type": "code",
   "execution_count": 3,
   "id": "f9e3f239-447c-47d9-9996-29359a26b3a8",
   "metadata": {},
   "outputs": [
    {
     "name": "stdout",
     "output_type": "stream",
     "text": [
      "After replacing '性別':\n",
      "0    3.0\n",
      "1    1.0\n",
      "2    1.0\n",
      "3    1.0\n",
      "4    3.0\n",
      "Name: 性別, dtype: float64\n",
      "After dropping NA '性別':\n",
      "    性別    年齡   車種  15事故類型及型態  22受傷程度\n",
      "0  3.0   0.0  G06        NaN     NaN\n",
      "1  1.0  55.0  H03        NaN     NaN\n",
      "2  1.0  42.0  B12        NaN     NaN\n",
      "3  1.0  40.0  B01        NaN     NaN\n",
      "4  3.0   0.0  NaN        NaN     NaN\n"
     ]
    }
   ],
   "source": [
    "# 選擇指定欄位\n",
    "df_cleaned = df[['性別', '年齡', '車種', '15事故類型及型態', '22受傷程度']].copy()\n",
    "\n",
    "# 進行欄位轉換和清理\n",
    "# '性別' 欄位：男性設為1，女性設為2，移除空白欄位\n",
    "df_cleaned['性別'] = df_cleaned['性別'].replace({'1': 1, '2': 2}).dropna()\n",
    "print(\"After replacing '性別':\")\n",
    "print(df_cleaned['性別'].head())\n",
    "\n",
    "df_cleaned = df_cleaned.dropna(subset=['性別'])\n",
    "print(\"After dropping NA '性別':\")\n",
    "print(df_cleaned.head())"
   ]
  },
  {
   "cell_type": "code",
   "execution_count": 4,
   "id": "f9293cb8-ba77-48f5-80fd-55791d633438",
   "metadata": {},
   "outputs": [
    {
     "name": "stdout",
     "output_type": "stream",
     "text": [
      "After binning '年齡':\n",
      "0    1\n",
      "1    2\n",
      "2    2\n",
      "3    2\n",
      "4    1\n",
      "Name: 年齡, dtype: category\n",
      "Categories (3, int64): [1 < 2 < 3]\n",
      "After dropping NA '年齡':\n",
      "    性別 年齡   車種  15事故類型及型態  22受傷程度\n",
      "0  3.0  1  G06        NaN     NaN\n",
      "1  1.0  2  H03        NaN     NaN\n",
      "2  1.0  2  B12        NaN     NaN\n",
      "3  1.0  2  B01        NaN     NaN\n",
      "4  3.0  1  NaN        NaN     NaN\n"
     ]
    }
   ],
   "source": [
    "# '年齡' 欄位：18歲以下設為1，19至64歲設為2，65歲以上設為3，移除空白欄位\n",
    "df_cleaned['年齡'] = pd.cut(df_cleaned['年齡'].astype(float), bins=[0, 18, 64, float('inf')], labels=[1, 2, 3], right=False)\n",
    "print(\"After binning '年齡':\")\n",
    "print(df_cleaned['年齡'].head())\n",
    "\n",
    "df_cleaned = df_cleaned.dropna(subset=['年齡'])\n",
    "print(\"After dropping NA '年齡':\")\n",
    "print(df_cleaned.head())"
   ]
  },
  {
   "cell_type": "code",
   "execution_count": 6,
   "id": "30496acc-787b-4179-9a10-356ba508d69a",
   "metadata": {},
   "outputs": [
    {
     "name": "stdout",
     "output_type": "stream",
     "text": [
      "After replacing '車種':\n",
      "0    0\n",
      "1    0\n",
      "2    0\n",
      "3    0\n",
      "4    0\n",
      "Name: 車種, dtype: int64\n",
      "After dropping NA '車種':\n",
      "    性別 年齡  車種  15事故類型及型態  22受傷程度\n",
      "0  3.0  1   0        NaN     NaN\n",
      "1  1.0  2   0        NaN     NaN\n",
      "2  1.0  2   0        NaN     NaN\n",
      "3  1.0  2   0        NaN     NaN\n",
      "4  3.0  1   0        NaN     NaN\n"
     ]
    }
   ],
   "source": [
    "# '車種' 欄位：B03設為1，C03設為2，其他全部設為0\n",
    "df_cleaned['車種'] = df_cleaned['車種'].apply(lambda x: 1 if x == 'B03' else (2 if x == 'C03' else 0))\n",
    "print(\"After replacing '車種':\")\n",
    "print(df_cleaned['車種'].head())\n",
    "\n",
    "df_cleaned = df_cleaned.dropna(subset=['車種'])\n",
    "print(\"After dropping NA '車種':\")\n",
    "print(df_cleaned.head())"
   ]
  },
  {
   "cell_type": "code",
   "execution_count": 7,
   "id": "482194ca-ca4d-4bfb-a101-76f8a587bd62",
   "metadata": {},
   "outputs": [
    {
     "name": "stdout",
     "output_type": "stream",
     "text": [
      "After processing '15事故類型及型態':\n",
      "0    0\n",
      "1    0\n",
      "2    0\n",
      "3    0\n",
      "4    0\n",
      "Name: 15事故類型及型態, dtype: int32\n",
      "After dropping NA '15事故類型及型態':\n",
      "    性別 年齡  車種  15事故類型及型態  22受傷程度\n",
      "0  3.0  1   0          0     NaN\n",
      "1  1.0  2   0          0     NaN\n",
      "2  1.0  2   0          0     NaN\n",
      "3  1.0  2   0          0     NaN\n",
      "4  3.0  1   0          0     NaN\n"
     ]
    }
   ],
   "source": [
    "# '15事故類型及型態' 欄位：空白欄位設為0，非空白欄位設為1\n",
    "df_cleaned['15事故類型及型態'] = df_cleaned['15事故類型及型態'].notna().astype(int)\n",
    "print(\"After processing '15事故類型及型態':\")\n",
    "print(df_cleaned['15事故類型及型態'].head())\n",
    "\n",
    "df_cleaned = df_cleaned.dropna(subset=['15事故類型及型態'])\n",
    "print(\"After dropping NA '15事故類型及型態':\")\n",
    "print(df_cleaned.head())"
   ]
  },
  {
   "cell_type": "code",
   "execution_count": 8,
   "id": "f22e54fc-cfcf-478b-bcf0-5cd64da7b3ab",
   "metadata": {},
   "outputs": [
    {
     "name": "stdout",
     "output_type": "stream",
     "text": [
      "After processing '22受傷程度':\n",
      "0    0\n",
      "1    0\n",
      "2    0\n",
      "3    0\n",
      "4    0\n",
      "Name: 22受傷程度, dtype: int32\n",
      "After dropping NA '22受傷程度':\n",
      "    性別 年齡  車種  15事故類型及型態  22受傷程度\n",
      "0  3.0  1   0          0       0\n",
      "1  1.0  2   0          0       0\n",
      "2  1.0  2   0          0       0\n",
      "3  1.0  2   0          0       0\n",
      "4  3.0  1   0          0       0\n"
     ]
    }
   ],
   "source": [
    "# '22受傷程度' 欄位：3設為1(無受傷)，其他全部設為0\n",
    "df_cleaned['22受傷程度'] = (df_cleaned['22受傷程度'] == 3).astype(int)\n",
    "print(\"After processing '22受傷程度':\")\n",
    "print(df_cleaned['22受傷程度'].head())\n",
    "\n",
    "df_cleaned = df_cleaned.dropna(subset=['22受傷程度'])\n",
    "print(\"After dropping NA '22受傷程度':\")\n",
    "print(df_cleaned.head())"
   ]
  },
  {
   "cell_type": "code",
   "execution_count": 9,
   "id": "aa1c24ca-5266-4034-9076-b30738283a86",
   "metadata": {},
   "outputs": [
    {
     "name": "stdout",
     "output_type": "stream",
     "text": [
      "Cleaned DataFrame:\n",
      "    性別 年齡  車種  15事故類型及型態  22受傷程度\n",
      "0  3.0  1   0          0       0\n",
      "1  1.0  2   0          0       0\n",
      "2  1.0  2   0          0       0\n",
      "3  1.0  2   0          0       0\n",
      "4  3.0  1   0          0       0\n"
     ]
    }
   ],
   "source": [
    "# 檢查清理後的數據\n",
    "print(\"Cleaned DataFrame:\")\n",
    "print(df_cleaned.head())\n"
   ]
  },
  {
   "cell_type": "code",
   "execution_count": 58,
   "id": "cfe9d845-1f5f-43c6-aee8-c0cf920ec7e8",
   "metadata": {},
   "outputs": [
    {
     "name": "stdout",
     "output_type": "stream",
     "text": [
      "Features:\n",
      "    性別 年齡  車種  15事故類型及型態\n",
      "0  3.0  1   0          1\n",
      "1  1.0  2   0          1\n",
      "2  1.0  2   0          1\n",
      "3  1.0  2   0          1\n",
      "4  3.0  1   0          1\n",
      "Target:\n",
      "0    0\n",
      "1    0\n",
      "2    0\n",
      "3    0\n",
      "4    0\n",
      "Name: 22受傷程度, dtype: int32\n"
     ]
    }
   ],
   "source": [
    "# 定義特徵和目標變數\n",
    "features = df_cleaned[['性別', '年齡', '車種', '15事故類型及型態']]  #'性別', '年齡', '車種', '15事故類型及型態' ,'外送員' ,'外送員*受傷程度'\n",
    "y = df_cleaned['22受傷程度']\n",
    "\n",
    "# 檢查特徵和目標變數\n",
    "print(\"Features:\")\n",
    "print(features.head())\n",
    "print(\"Target:\")\n",
    "print(y.head())"
   ]
  },
  {
   "cell_type": "code",
   "execution_count": 10,
   "id": "e225916e-1d01-41f7-acbf-cc9bb52065cb",
   "metadata": {},
   "outputs": [
    {
     "name": "stderr",
     "output_type": "stream",
     "text": [
      "C:\\Users\\user\\anaconda3\\Lib\\site-packages\\aif360\\detectors\\mdss\\MDSS.py:57: FutureWarning: The default of observed=False is deprecated and will be changed to True in a future version of pandas. Pass observed=False to retain current behavior or observed=True to adopt the future default and silence this warning.\n",
      "  for name, group in temp_df.groupby(column_name):\n",
      "C:\\Users\\user\\anaconda3\\Lib\\site-packages\\aif360\\detectors\\mdss\\MDSS.py:57: FutureWarning: The default of observed=False is deprecated and will be changed to True in a future version of pandas. Pass observed=False to retain current behavior or observed=True to adopt the future default and silence this warning.\n",
      "  for name, group in temp_df.groupby(column_name):\n",
      "C:\\Users\\user\\anaconda3\\Lib\\site-packages\\aif360\\detectors\\mdss\\MDSS.py:57: FutureWarning: The default of observed=False is deprecated and will be changed to True in a future version of pandas. Pass observed=False to retain current behavior or observed=True to adopt the future default and silence this warning.\n",
      "  for name, group in temp_df.groupby(column_name):\n",
      "C:\\Users\\user\\anaconda3\\Lib\\site-packages\\aif360\\detectors\\mdss\\MDSS.py:57: FutureWarning: The default of observed=False is deprecated and will be changed to True in a future version of pandas. Pass observed=False to retain current behavior or observed=True to adopt the future default and silence this warning.\n",
      "  for name, group in temp_df.groupby(column_name):\n",
      "C:\\Users\\user\\anaconda3\\Lib\\site-packages\\aif360\\detectors\\mdss\\MDSS.py:57: FutureWarning: The default of observed=False is deprecated and will be changed to True in a future version of pandas. Pass observed=False to retain current behavior or observed=True to adopt the future default and silence this warning.\n",
      "  for name, group in temp_df.groupby(column_name):\n",
      "C:\\Users\\user\\anaconda3\\Lib\\site-packages\\aif360\\detectors\\mdss\\MDSS.py:57: FutureWarning: The default of observed=False is deprecated and will be changed to True in a future version of pandas. Pass observed=False to retain current behavior or observed=True to adopt the future default and silence this warning.\n",
      "  for name, group in temp_df.groupby(column_name):\n",
      "C:\\Users\\user\\anaconda3\\Lib\\site-packages\\aif360\\detectors\\mdss\\MDSS.py:57: FutureWarning: The default of observed=False is deprecated and will be changed to True in a future version of pandas. Pass observed=False to retain current behavior or observed=True to adopt the future default and silence this warning.\n",
      "  for name, group in temp_df.groupby(column_name):\n",
      "C:\\Users\\user\\anaconda3\\Lib\\site-packages\\aif360\\detectors\\mdss\\MDSS.py:57: FutureWarning: The default of observed=False is deprecated and will be changed to True in a future version of pandas. Pass observed=False to retain current behavior or observed=True to adopt the future default and silence this warning.\n",
      "  for name, group in temp_df.groupby(column_name):\n",
      "C:\\Users\\user\\anaconda3\\Lib\\site-packages\\aif360\\detectors\\mdss\\MDSS.py:57: FutureWarning: The default of observed=False is deprecated and will be changed to True in a future version of pandas. Pass observed=False to retain current behavior or observed=True to adopt the future default and silence this warning.\n",
      "  for name, group in temp_df.groupby(column_name):\n",
      "C:\\Users\\user\\anaconda3\\Lib\\site-packages\\aif360\\detectors\\mdss\\MDSS.py:57: FutureWarning: The default of observed=False is deprecated and will be changed to True in a future version of pandas. Pass observed=False to retain current behavior or observed=True to adopt the future default and silence this warning.\n",
      "  for name, group in temp_df.groupby(column_name):\n",
      "C:\\Users\\user\\anaconda3\\Lib\\site-packages\\aif360\\detectors\\mdss\\MDSS.py:57: FutureWarning: The default of observed=False is deprecated and will be changed to True in a future version of pandas. Pass observed=False to retain current behavior or observed=True to adopt the future default and silence this warning.\n",
      "  for name, group in temp_df.groupby(column_name):\n",
      "C:\\Users\\user\\anaconda3\\Lib\\site-packages\\aif360\\detectors\\mdss\\MDSS.py:57: FutureWarning: The default of observed=False is deprecated and will be changed to True in a future version of pandas. Pass observed=False to retain current behavior or observed=True to adopt the future default and silence this warning.\n",
      "  for name, group in temp_df.groupby(column_name):\n",
      "C:\\Users\\user\\anaconda3\\Lib\\site-packages\\aif360\\detectors\\mdss\\MDSS.py:57: FutureWarning: The default of observed=False is deprecated and will be changed to True in a future version of pandas. Pass observed=False to retain current behavior or observed=True to adopt the future default and silence this warning.\n",
      "  for name, group in temp_df.groupby(column_name):\n",
      "C:\\Users\\user\\anaconda3\\Lib\\site-packages\\aif360\\detectors\\mdss\\MDSS.py:57: FutureWarning: The default of observed=False is deprecated and will be changed to True in a future version of pandas. Pass observed=False to retain current behavior or observed=True to adopt the future default and silence this warning.\n",
      "  for name, group in temp_df.groupby(column_name):\n",
      "C:\\Users\\user\\anaconda3\\Lib\\site-packages\\aif360\\detectors\\mdss\\MDSS.py:57: FutureWarning: The default of observed=False is deprecated and will be changed to True in a future version of pandas. Pass observed=False to retain current behavior or observed=True to adopt the future default and silence this warning.\n",
      "  for name, group in temp_df.groupby(column_name):\n",
      "C:\\Users\\user\\anaconda3\\Lib\\site-packages\\aif360\\detectors\\mdss\\MDSS.py:57: FutureWarning: The default of observed=False is deprecated and will be changed to True in a future version of pandas. Pass observed=False to retain current behavior or observed=True to adopt the future default and silence this warning.\n",
      "  for name, group in temp_df.groupby(column_name):\n",
      "C:\\Users\\user\\anaconda3\\Lib\\site-packages\\aif360\\detectors\\mdss\\MDSS.py:57: FutureWarning: The default of observed=False is deprecated and will be changed to True in a future version of pandas. Pass observed=False to retain current behavior or observed=True to adopt the future default and silence this warning.\n",
      "  for name, group in temp_df.groupby(column_name):\n",
      "C:\\Users\\user\\anaconda3\\Lib\\site-packages\\aif360\\detectors\\mdss\\MDSS.py:57: FutureWarning: The default of observed=False is deprecated and will be changed to True in a future version of pandas. Pass observed=False to retain current behavior or observed=True to adopt the future default and silence this warning.\n",
      "  for name, group in temp_df.groupby(column_name):\n",
      "C:\\Users\\user\\anaconda3\\Lib\\site-packages\\aif360\\detectors\\mdss\\MDSS.py:57: FutureWarning: The default of observed=False is deprecated and will be changed to True in a future version of pandas. Pass observed=False to retain current behavior or observed=True to adopt the future default and silence this warning.\n",
      "  for name, group in temp_df.groupby(column_name):\n",
      "C:\\Users\\user\\anaconda3\\Lib\\site-packages\\aif360\\detectors\\mdss\\MDSS.py:57: FutureWarning: The default of observed=False is deprecated and will be changed to True in a future version of pandas. Pass observed=False to retain current behavior or observed=True to adopt the future default and silence this warning.\n",
      "  for name, group in temp_df.groupby(column_name):\n",
      "C:\\Users\\user\\anaconda3\\Lib\\site-packages\\aif360\\detectors\\mdss\\MDSS.py:57: FutureWarning: The default of observed=False is deprecated and will be changed to True in a future version of pandas. Pass observed=False to retain current behavior or observed=True to adopt the future default and silence this warning.\n",
      "  for name, group in temp_df.groupby(column_name):\n",
      "C:\\Users\\user\\anaconda3\\Lib\\site-packages\\aif360\\detectors\\mdss\\MDSS.py:57: FutureWarning: The default of observed=False is deprecated and will be changed to True in a future version of pandas. Pass observed=False to retain current behavior or observed=True to adopt the future default and silence this warning.\n",
      "  for name, group in temp_df.groupby(column_name):\n",
      "C:\\Users\\user\\anaconda3\\Lib\\site-packages\\aif360\\detectors\\mdss\\MDSS.py:57: FutureWarning: The default of observed=False is deprecated and will be changed to True in a future version of pandas. Pass observed=False to retain current behavior or observed=True to adopt the future default and silence this warning.\n",
      "  for name, group in temp_df.groupby(column_name):\n",
      "C:\\Users\\user\\anaconda3\\Lib\\site-packages\\aif360\\detectors\\mdss\\MDSS.py:57: FutureWarning: The default of observed=False is deprecated and will be changed to True in a future version of pandas. Pass observed=False to retain current behavior or observed=True to adopt the future default and silence this warning.\n",
      "  for name, group in temp_df.groupby(column_name):\n",
      "C:\\Users\\user\\anaconda3\\Lib\\site-packages\\aif360\\detectors\\mdss\\MDSS.py:57: FutureWarning: The default of observed=False is deprecated and will be changed to True in a future version of pandas. Pass observed=False to retain current behavior or observed=True to adopt the future default and silence this warning.\n",
      "  for name, group in temp_df.groupby(column_name):\n",
      "C:\\Users\\user\\anaconda3\\Lib\\site-packages\\aif360\\detectors\\mdss\\MDSS.py:57: FutureWarning: The default of observed=False is deprecated and will be changed to True in a future version of pandas. Pass observed=False to retain current behavior or observed=True to adopt the future default and silence this warning.\n",
      "  for name, group in temp_df.groupby(column_name):\n",
      "C:\\Users\\user\\anaconda3\\Lib\\site-packages\\aif360\\detectors\\mdss\\MDSS.py:57: FutureWarning: The default of observed=False is deprecated and will be changed to True in a future version of pandas. Pass observed=False to retain current behavior or observed=True to adopt the future default and silence this warning.\n",
      "  for name, group in temp_df.groupby(column_name):\n",
      "C:\\Users\\user\\anaconda3\\Lib\\site-packages\\aif360\\detectors\\mdss\\MDSS.py:57: FutureWarning: The default of observed=False is deprecated and will be changed to True in a future version of pandas. Pass observed=False to retain current behavior or observed=True to adopt the future default and silence this warning.\n",
      "  for name, group in temp_df.groupby(column_name):\n",
      "C:\\Users\\user\\anaconda3\\Lib\\site-packages\\aif360\\detectors\\mdss\\MDSS.py:57: FutureWarning: The default of observed=False is deprecated and will be changed to True in a future version of pandas. Pass observed=False to retain current behavior or observed=True to adopt the future default and silence this warning.\n",
      "  for name, group in temp_df.groupby(column_name):\n",
      "C:\\Users\\user\\anaconda3\\Lib\\site-packages\\aif360\\detectors\\mdss\\MDSS.py:57: FutureWarning: The default of observed=False is deprecated and will be changed to True in a future version of pandas. Pass observed=False to retain current behavior or observed=True to adopt the future default and silence this warning.\n",
      "  for name, group in temp_df.groupby(column_name):\n",
      "C:\\Users\\user\\anaconda3\\Lib\\site-packages\\aif360\\detectors\\mdss\\MDSS.py:57: FutureWarning: The default of observed=False is deprecated and will be changed to True in a future version of pandas. Pass observed=False to retain current behavior or observed=True to adopt the future default and silence this warning.\n",
      "  for name, group in temp_df.groupby(column_name):\n",
      "C:\\Users\\user\\anaconda3\\Lib\\site-packages\\aif360\\detectors\\mdss\\MDSS.py:57: FutureWarning: The default of observed=False is deprecated and will be changed to True in a future version of pandas. Pass observed=False to retain current behavior or observed=True to adopt the future default and silence this warning.\n",
      "  for name, group in temp_df.groupby(column_name):\n",
      "C:\\Users\\user\\anaconda3\\Lib\\site-packages\\aif360\\detectors\\mdss\\MDSS.py:57: FutureWarning: The default of observed=False is deprecated and will be changed to True in a future version of pandas. Pass observed=False to retain current behavior or observed=True to adopt the future default and silence this warning.\n",
      "  for name, group in temp_df.groupby(column_name):\n",
      "C:\\Users\\user\\anaconda3\\Lib\\site-packages\\aif360\\detectors\\mdss\\MDSS.py:57: FutureWarning: The default of observed=False is deprecated and will be changed to True in a future version of pandas. Pass observed=False to retain current behavior or observed=True to adopt the future default and silence this warning.\n",
      "  for name, group in temp_df.groupby(column_name):\n",
      "C:\\Users\\user\\anaconda3\\Lib\\site-packages\\aif360\\detectors\\mdss\\MDSS.py:57: FutureWarning: The default of observed=False is deprecated and will be changed to True in a future version of pandas. Pass observed=False to retain current behavior or observed=True to adopt the future default and silence this warning.\n",
      "  for name, group in temp_df.groupby(column_name):\n"
     ]
    }
   ],
   "source": [
    "# 定義特徵和目標變數\n",
    "features = df_cleaned[['性別', '年齡', '車種', '15事故類型及型態']]\n",
    "y = df_cleaned['22受傷程度']\n",
    "\n",
    "# 設置 favorable_value 為 'high'，表示 \"無受傷\" 是有利結果\n",
    "favorable_value = 'high'\n",
    "\n",
    "# 執行 bias_scan 函數\n",
    "privileged_subset = bias_scan(data=features, observations=y, favorable_value=favorable_value,\n",
    "                              scoring='BerkJones', overpredicted=True, penalty=50,\n",
    "                              mode='continuous', alpha=0.1)  # 調整 alpha 值\n",
    "\n",
    "unprivileged_subset = bias_scan(data=features, observations=y, favorable_value=favorable_value,\n",
    "                                scoring='BerkJones', overpredicted=False, penalty=50,\n",
    "                                mode='continuous', alpha=0.1)  # 調整 alpha 值"
   ]
  },
  {
   "cell_type": "code",
   "execution_count": 11,
   "id": "6b445a2a-3dee-4635-afce-1d98d1a1cb16",
   "metadata": {},
   "outputs": [
    {
     "name": "stdout",
     "output_type": "stream",
     "text": [
      "Privileged Subset:\n",
      "({}, 22531.8731)\n",
      "No privileged subset detected.\n",
      "Unprivileged Subset:\n",
      "({'年齡': [2, 3], '性別': [1.0], '15事故類型及型態': [1]}, 16437.981)\n",
      "Our detected unprivileged group has a size of 38717, we observe 0.46176098354727896 as the mean injury degree, but our model predicts 0.10233569474644034\n"
     ]
    }
   ],
   "source": [
    "# 檢測特權群體\n",
    "print(\"Privileged Subset:\")\n",
    "print(privileged_subset)\n",
    "if privileged_subset[0]:\n",
    "    to_choose = features[privileged_subset[0].keys()].isin(privileged_subset[0]).all(axis=1)\n",
    "    temp_df = df_cleaned.loc[to_choose].copy()\n",
    "    print(\"Our detected privileged group has a size of {}, we observe {} as the mean injury degree, but our model predicts {}\"\n",
    "          .format(len(temp_df), temp_df['22受傷程度'].mean(), y.mean()))\n",
    "else:\n",
    "    print(\"No privileged subset detected.\")\n",
    "\n",
    "# 檢查非特權群體\n",
    "print(\"Unprivileged Subset:\")\n",
    "print(unprivileged_subset)\n",
    "if unprivileged_subset[0]:\n",
    "    to_choose = features[unprivileged_subset[0].keys()].isin(unprivileged_subset[0]).all(axis=1)\n",
    "    temp_df = df_cleaned.loc[to_choose].copy()\n",
    "    print(\"Our detected unprivileged group has a size of {}, we observe {} as the mean injury degree, but our model predicts {}\"\n",
    "          .format(len(temp_df), temp_df['22受傷程度'].mean(), y.mean()))\n",
    "else:\n",
    "    print(\"No unprivileged subset detected.\")"
   ]
  },
  {
   "cell_type": "markdown",
   "id": "bb5c7f3d-9276-4ee9-ad3c-fd2734ebb2bd",
   "metadata": {},
   "source": [
    "/*\n",
    "找到了一個在預測受傷程度上被低估的群體，這個群體的特徵如下：\n",
    "年齡：19 至 64 歲（2）和 65 歲以上（3）\n",
    "性別：男性（1.0）\n",
    "事故類型：事故類型為 1(有發生事故)\n",
    "這個群體的大小是 38717 人。\n",
    "\n",
    "具體偏見：\n",
    "\n",
    "實際情況：這個群體中有 46.18% 的人實際上受傷了。\n",
    "模型預測：模型卻只預測有 10.23% 的人會受傷。\n",
    "*/"
   ]
  },
  {
   "cell_type": "code",
   "execution_count": null,
   "id": "8e0fd3cc-1789-44f8-bce8-14ae96de6e55",
   "metadata": {},
   "outputs": [],
   "source": []
  }
 ],
 "metadata": {
  "kernelspec": {
   "display_name": "Python 3 (ipykernel)",
   "language": "python",
   "name": "python3"
  },
  "language_info": {
   "codemirror_mode": {
    "name": "ipython",
    "version": 3
   },
   "file_extension": ".py",
   "mimetype": "text/x-python",
   "name": "python",
   "nbconvert_exporter": "python",
   "pygments_lexer": "ipython3",
   "version": "3.11.7"
  }
 },
 "nbformat": 4,
 "nbformat_minor": 5
}
